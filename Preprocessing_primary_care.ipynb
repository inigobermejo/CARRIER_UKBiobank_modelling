{
 "cells": [
  {
   "cell_type": "code",
   "execution_count": 4,
   "id": "091a8563-aa76-41a3-88fd-6b5b3a2e9a5e",
   "metadata": {},
   "outputs": [],
   "source": [
    "import pandas as pd\n",
    "import numpy as np"
   ]
  },
  {
   "cell_type": "code",
   "execution_count": 6,
   "id": "79dfd8e3-7123-495b-9600-7cbebc6a5a49",
   "metadata": {},
   "outputs": [],
   "source": [
    "folder = 'C:\\\\Users\\\\i.bermejo\\\\Documents\\\\Data\\\\CARRIER\\\\UKBB\\\\'\n",
    "file = folder + 'gp_scripts.txt'\n",
    "antihypertensives_file = folder + 'uom_antihypertensives_prodcodeid.csv'"
   ]
  },
  {
   "cell_type": "code",
   "execution_count": 13,
   "id": "e55e95d3-9402-4c50-9457-b2368ac08227",
   "metadata": {},
   "outputs": [],
   "source": [
    "dataset = pd.read_csv(file, sep='\\t')\n",
    "dataset.shape"
   ]
  },
  {
   "cell_type": "code",
   "execution_count": 3,
   "id": "e2f38c4a-0525-4e14-a7ca-abd2bc8432ac",
   "metadata": {},
   "outputs": [
    {
     "data": {
      "text/html": [
       "<div>\n",
       "<style scoped>\n",
       "    .dataframe tbody tr th:only-of-type {\n",
       "        vertical-align: middle;\n",
       "    }\n",
       "\n",
       "    .dataframe tbody tr th {\n",
       "        vertical-align: top;\n",
       "    }\n",
       "\n",
       "    .dataframe thead th {\n",
       "        text-align: right;\n",
       "    }\n",
       "</style>\n",
       "<table border=\"1\" class=\"dataframe\">\n",
       "  <thead>\n",
       "    <tr style=\"text-align: right;\">\n",
       "      <th></th>\n",
       "      <th>eid</th>\n",
       "      <th>data_provider</th>\n",
       "      <th>issue_date</th>\n",
       "      <th>read_2</th>\n",
       "      <th>bnf_code</th>\n",
       "      <th>dmd_code</th>\n",
       "      <th>drug_name</th>\n",
       "      <th>quantity</th>\n",
       "    </tr>\n",
       "  </thead>\n",
       "  <tbody>\n",
       "    <tr>\n",
       "      <th>0</th>\n",
       "      <td>1000025</td>\n",
       "      <td>3</td>\n",
       "      <td>12/05/2000</td>\n",
       "      <td>NaN</td>\n",
       "      <td>02.06.02.00.00</td>\n",
       "      <td>NaN</td>\n",
       "      <td>Istin 10mg tablets (Pfizer Ltd)</td>\n",
       "      <td>3 OP</td>\n",
       "    </tr>\n",
       "    <tr>\n",
       "      <th>1</th>\n",
       "      <td>1000025</td>\n",
       "      <td>3</td>\n",
       "      <td>07/05/1997</td>\n",
       "      <td>NaN</td>\n",
       "      <td>02.06.02.00.00</td>\n",
       "      <td>NaN</td>\n",
       "      <td>Istin 10mg tablets (Pfizer Ltd)</td>\n",
       "      <td>3 OP</td>\n",
       "    </tr>\n",
       "    <tr>\n",
       "      <th>2</th>\n",
       "      <td>1000025</td>\n",
       "      <td>3</td>\n",
       "      <td>19/08/2000</td>\n",
       "      <td>NaN</td>\n",
       "      <td>02.06.02.00.00</td>\n",
       "      <td>NaN</td>\n",
       "      <td>Istin 10mg tablets (Pfizer Ltd)</td>\n",
       "      <td>3 OP</td>\n",
       "    </tr>\n",
       "    <tr>\n",
       "      <th>3</th>\n",
       "      <td>1000025</td>\n",
       "      <td>3</td>\n",
       "      <td>28/10/2000</td>\n",
       "      <td>NaN</td>\n",
       "      <td>02.06.02.00.00</td>\n",
       "      <td>NaN</td>\n",
       "      <td>Istin 10mg tablets (Pfizer Ltd)</td>\n",
       "      <td>3 OP</td>\n",
       "    </tr>\n",
       "    <tr>\n",
       "      <th>4</th>\n",
       "      <td>1000025</td>\n",
       "      <td>3</td>\n",
       "      <td>16/09/2002</td>\n",
       "      <td>NaN</td>\n",
       "      <td>02.06.02.00.00</td>\n",
       "      <td>NaN</td>\n",
       "      <td>Istin 10mg tablets (Pfizer Ltd)</td>\n",
       "      <td>3 x 28</td>\n",
       "    </tr>\n",
       "  </tbody>\n",
       "</table>\n",
       "</div>"
      ],
      "text/plain": [
       "       eid  data_provider  issue_date read_2        bnf_code  dmd_code  \\\n",
       "0  1000025              3  12/05/2000    NaN  02.06.02.00.00       NaN   \n",
       "1  1000025              3  07/05/1997    NaN  02.06.02.00.00       NaN   \n",
       "2  1000025              3  19/08/2000    NaN  02.06.02.00.00       NaN   \n",
       "3  1000025              3  28/10/2000    NaN  02.06.02.00.00       NaN   \n",
       "4  1000025              3  16/09/2002    NaN  02.06.02.00.00       NaN   \n",
       "\n",
       "                         drug_name quantity  \n",
       "0  Istin 10mg tablets (Pfizer Ltd)     3 OP  \n",
       "1  Istin 10mg tablets (Pfizer Ltd)     3 OP  \n",
       "2  Istin 10mg tablets (Pfizer Ltd)     3 OP  \n",
       "3  Istin 10mg tablets (Pfizer Ltd)     3 OP  \n",
       "4  Istin 10mg tablets (Pfizer Ltd)   3 x 28  "
      ]
     },
     "execution_count": 3,
     "metadata": {},
     "output_type": "execute_result"
    }
   ],
   "source": [
    "dataset.head()"
   ]
  },
  {
   "cell_type": "code",
   "execution_count": 21,
   "id": "324a77cd-0052-49e3-a4f1-40bc1878573c",
   "metadata": {},
   "outputs": [
    {
     "data": {
      "text/plain": [
       "(48968774, 8)"
      ]
     },
     "execution_count": 21,
     "metadata": {},
     "output_type": "execute_result"
    }
   ],
   "source": [
    "dataset = dataset.dropna(subset=['drug_name'])\n",
    "dataset.shape"
   ]
  },
  {
   "cell_type": "markdown",
   "id": "8de209df-41df-4da2-8b18-62c659fa1183",
   "metadata": {},
   "source": [
    "## Statins"
   ]
  },
  {
   "cell_type": "code",
   "execution_count": null,
   "id": "cbb9ee1a-f0fc-4c6c-b942-55a69b89f8d5",
   "metadata": {},
   "outputs": [],
   "source": [
    "relevant_drug_names = ['simvastatin', 'pravastatin', 'lipostat', 'simvador', 'crestor', 'inegy', 'lipitor', 'lipobay', ' fluvastatin',\n",
    "                       'zocor', 'atorvastatin', 'cerivastatin', 'ranzolont', 'lescol', 'rosuvastatin']"
   ]
  },
  {
   "cell_type": "code",
   "execution_count": 13,
   "id": "6212d808-4b66-447d-889b-abf322a633a7",
   "metadata": {},
   "outputs": [
    {
     "name": "stderr",
     "output_type": "stream",
     "text": [
      "C:\\Users\\i.bermejo\\AppData\\Local\\Temp\\ipykernel_45432\\1244880863.py:6: UserWarning: This pattern is interpreted as a regular expression, and has match groups. To actually get the groups, use str.extract.\n",
      "  filtered_df = dataset[dataset['drug_name'].str.contains(regex_pattern, regex=True)]\n"
     ]
    }
   ],
   "source": [
    "# Create a regex pattern from the search strings, joining them with '|', and setting case insensitive flag\n",
    "pattern = '|'.join(relevant_drug_names)\n",
    "regex_pattern = f\"(?i)({pattern})\"\n",
    "\n",
    "# Filter the DataFrame\n",
    "df_statins = dataset[dataset['drug_name'].str.contains(regex_pattern, regex=True)]"
   ]
  },
  {
   "cell_type": "code",
   "execution_count": 21,
   "id": "f08b45fc-ea1d-4b52-8e23-cbf6a593ede2",
   "metadata": {},
   "outputs": [
    {
     "data": {
      "text/plain": [
       "(3641470, 8)"
      ]
     },
     "execution_count": 21,
     "metadata": {},
     "output_type": "execute_result"
    }
   ],
   "source": [
    "df_statins.to_csv(\"statin_prescriptions.csv\", index = False)\n",
    "df_statins.shape"
   ]
  },
  {
   "cell_type": "code",
   "execution_count": 17,
   "id": "8d5fb0cb-f0d0-49e6-a8b7-7ab5683d88df",
   "metadata": {},
   "outputs": [
    {
     "data": {
      "text/html": [
       "<div>\n",
       "<style scoped>\n",
       "    .dataframe tbody tr th:only-of-type {\n",
       "        vertical-align: middle;\n",
       "    }\n",
       "\n",
       "    .dataframe tbody tr th {\n",
       "        vertical-align: top;\n",
       "    }\n",
       "\n",
       "    .dataframe thead th {\n",
       "        text-align: right;\n",
       "    }\n",
       "</style>\n",
       "<table border=\"1\" class=\"dataframe\">\n",
       "  <thead>\n",
       "    <tr style=\"text-align: right;\">\n",
       "      <th></th>\n",
       "      <th>eid</th>\n",
       "      <th>data_provider</th>\n",
       "      <th>issue_date</th>\n",
       "      <th>read_2</th>\n",
       "      <th>bnf_code</th>\n",
       "      <th>dmd_code</th>\n",
       "      <th>drug_name</th>\n",
       "      <th>quantity</th>\n",
       "    </tr>\n",
       "  </thead>\n",
       "  <tbody>\n",
       "    <tr>\n",
       "      <th>243</th>\n",
       "      <td>1000025</td>\n",
       "      <td>3</td>\n",
       "      <td>18/03/2016</td>\n",
       "      <td>NaN</td>\n",
       "      <td>02.12.04.00.00</td>\n",
       "      <td>NaN</td>\n",
       "      <td>Atorvastatin 20mg tablets</td>\n",
       "      <td>28 tablet</td>\n",
       "    </tr>\n",
       "    <tr>\n",
       "      <th>244</th>\n",
       "      <td>1000025</td>\n",
       "      <td>3</td>\n",
       "      <td>10/06/2016</td>\n",
       "      <td>NaN</td>\n",
       "      <td>02.12.04.00.00</td>\n",
       "      <td>NaN</td>\n",
       "      <td>Atorvastatin 20mg tablets</td>\n",
       "      <td>56 tablet</td>\n",
       "    </tr>\n",
       "    <tr>\n",
       "      <th>247</th>\n",
       "      <td>1000025</td>\n",
       "      <td>3</td>\n",
       "      <td>20/04/2016</td>\n",
       "      <td>NaN</td>\n",
       "      <td>02.12.04.00.00</td>\n",
       "      <td>NaN</td>\n",
       "      <td>Atorvastatin 20mg tablets</td>\n",
       "      <td>56 tablet</td>\n",
       "    </tr>\n",
       "    <tr>\n",
       "      <th>579</th>\n",
       "      <td>1000041</td>\n",
       "      <td>3</td>\n",
       "      <td>15/05/2012</td>\n",
       "      <td>NaN</td>\n",
       "      <td>02.12.04.00.00</td>\n",
       "      <td>NaN</td>\n",
       "      <td>Simvastatin 20mg tablets</td>\n",
       "      <td>2*28 tablets - 20 mg</td>\n",
       "    </tr>\n",
       "    <tr>\n",
       "      <th>583</th>\n",
       "      <td>1000041</td>\n",
       "      <td>3</td>\n",
       "      <td>14/11/2011</td>\n",
       "      <td>NaN</td>\n",
       "      <td>02.12.04.00.00</td>\n",
       "      <td>NaN</td>\n",
       "      <td>Simvastatin 20mg tablets</td>\n",
       "      <td>2*28 tablets - 20 mg</td>\n",
       "    </tr>\n",
       "  </tbody>\n",
       "</table>\n",
       "</div>"
      ],
      "text/plain": [
       "         eid  data_provider  issue_date read_2        bnf_code  dmd_code  \\\n",
       "243  1000025              3  18/03/2016    NaN  02.12.04.00.00       NaN   \n",
       "244  1000025              3  10/06/2016    NaN  02.12.04.00.00       NaN   \n",
       "247  1000025              3  20/04/2016    NaN  02.12.04.00.00       NaN   \n",
       "579  1000041              3  15/05/2012    NaN  02.12.04.00.00       NaN   \n",
       "583  1000041              3  14/11/2011    NaN  02.12.04.00.00       NaN   \n",
       "\n",
       "                     drug_name              quantity  \n",
       "243  Atorvastatin 20mg tablets             28 tablet  \n",
       "244  Atorvastatin 20mg tablets             56 tablet  \n",
       "247  Atorvastatin 20mg tablets             56 tablet  \n",
       "579   Simvastatin 20mg tablets  2*28 tablets - 20 mg  \n",
       "583   Simvastatin 20mg tablets  2*28 tablets - 20 mg  "
      ]
     },
     "execution_count": 17,
     "metadata": {},
     "output_type": "execute_result"
    }
   ],
   "source": [
    "df_statins.head()"
   ]
  },
  {
   "cell_type": "code",
   "execution_count": 19,
   "id": "3d0a05c5-508e-48fb-84c3-9b6974b3bd42",
   "metadata": {},
   "outputs": [
    {
     "name": "stderr",
     "output_type": "stream",
     "text": [
      "C:\\Users\\i.bermejo\\AppData\\Local\\Temp\\ipykernel_45432\\3965879663.py:2: SettingWithCopyWarning: \n",
      "A value is trying to be set on a copy of a slice from a DataFrame.\n",
      "Try using .loc[row_indexer,col_indexer] = value instead\n",
      "\n",
      "See the caveats in the documentation: https://pandas.pydata.org/pandas-docs/stable/user_guide/indexing.html#returning-a-view-versus-a-copy\n",
      "  filtered_df['issue_date'] = pd.to_datetime(filtered_df['issue_date'],  format='%d/%m/%Y')\n"
     ]
    }
   ],
   "source": [
    "# Convert the Date column to datetime\n",
    "df_statins['issue_date'] = pd.to_datetime(df_statins['issue_date'],  format='%d/%m/%Y')\n",
    "\n",
    "# Sort the DataFrame by 'eid' and 'issue_date'\n",
    "df_statins_sorted = df_statins.sort_values(by=['eid', 'issue_date'])\n",
    "\n",
    "# Drop duplicates, keeping only the first occurrence for each person\n",
    "df_statins_initiation_date = df_statins_sorted.drop_duplicates(subset=['eid'], keep='first')\n"
   ]
  },
  {
   "cell_type": "code",
   "execution_count": 20,
   "id": "0e5f8cbf-0234-42fe-a146-ffe4f69d522a",
   "metadata": {},
   "outputs": [
    {
     "data": {
      "text/plain": [
       "(70625, 8)"
      ]
     },
     "execution_count": 20,
     "metadata": {},
     "output_type": "execute_result"
    }
   ],
   "source": [
    "df_statins_initiation_date.shape"
   ]
  },
  {
   "cell_type": "code",
   "execution_count": 22,
   "id": "c08b6932-c97b-49df-b123-643ef58d6d72",
   "metadata": {},
   "outputs": [],
   "source": [
    "df_statins_initiation_date.to_csv(folder + \"statin_initiation.csv\", index = False)"
   ]
  },
  {
   "cell_type": "code",
   "execution_count": 23,
   "id": "67e61ce7-2f27-4fb7-918a-cc699156afd0",
   "metadata": {},
   "outputs": [
    {
     "data": {
      "text/html": [
       "<div>\n",
       "<style scoped>\n",
       "    .dataframe tbody tr th:only-of-type {\n",
       "        vertical-align: middle;\n",
       "    }\n",
       "\n",
       "    .dataframe tbody tr th {\n",
       "        vertical-align: top;\n",
       "    }\n",
       "\n",
       "    .dataframe thead th {\n",
       "        text-align: right;\n",
       "    }\n",
       "</style>\n",
       "<table border=\"1\" class=\"dataframe\">\n",
       "  <thead>\n",
       "    <tr style=\"text-align: right;\">\n",
       "      <th></th>\n",
       "      <th>eid</th>\n",
       "      <th>data_provider</th>\n",
       "      <th>issue_date</th>\n",
       "      <th>read_2</th>\n",
       "      <th>bnf_code</th>\n",
       "      <th>dmd_code</th>\n",
       "      <th>drug_name</th>\n",
       "      <th>quantity</th>\n",
       "    </tr>\n",
       "  </thead>\n",
       "  <tbody>\n",
       "    <tr>\n",
       "      <th>243</th>\n",
       "      <td>1000025</td>\n",
       "      <td>3</td>\n",
       "      <td>2016-03-18</td>\n",
       "      <td>NaN</td>\n",
       "      <td>02.12.04.00.00</td>\n",
       "      <td>NaN</td>\n",
       "      <td>Atorvastatin 20mg tablets</td>\n",
       "      <td>28 tablet</td>\n",
       "    </tr>\n",
       "    <tr>\n",
       "      <th>940</th>\n",
       "      <td>1000041</td>\n",
       "      <td>3</td>\n",
       "      <td>2009-02-05</td>\n",
       "      <td>NaN</td>\n",
       "      <td>02.12.04.00.00</td>\n",
       "      <td>NaN</td>\n",
       "      <td>Simvastatin 20mg tablets</td>\n",
       "      <td>56 tablets - 20 mg</td>\n",
       "    </tr>\n",
       "    <tr>\n",
       "      <th>1155</th>\n",
       "      <td>1000068</td>\n",
       "      <td>2</td>\n",
       "      <td>2013-04-26</td>\n",
       "      <td>bxi1.</td>\n",
       "      <td>02120400</td>\n",
       "      <td>NaN</td>\n",
       "      <td>Atorvastatin 10mg tablets</td>\n",
       "      <td>56.000</td>\n",
       "    </tr>\n",
       "    <tr>\n",
       "      <th>1926</th>\n",
       "      <td>1000170</td>\n",
       "      <td>1</td>\n",
       "      <td>2017-01-26</td>\n",
       "      <td>bxi2.00</td>\n",
       "      <td>NaN</td>\n",
       "      <td>320030001.0</td>\n",
       "      <td>Atorvastatin 20mg tablets</td>\n",
       "      <td>28.000</td>\n",
       "    </tr>\n",
       "    <tr>\n",
       "      <th>2002</th>\n",
       "      <td>1000193</td>\n",
       "      <td>3</td>\n",
       "      <td>1998-11-27</td>\n",
       "      <td>NaN</td>\n",
       "      <td>02.12.04.00.00</td>\n",
       "      <td>NaN</td>\n",
       "      <td>Cerivastatin 100microgram tablets</td>\n",
       "      <td>42 tablets - 100 micrograms</td>\n",
       "    </tr>\n",
       "  </tbody>\n",
       "</table>\n",
       "</div>"
      ],
      "text/plain": [
       "          eid  data_provider issue_date   read_2        bnf_code     dmd_code  \\\n",
       "243   1000025              3 2016-03-18      NaN  02.12.04.00.00          NaN   \n",
       "940   1000041              3 2009-02-05      NaN  02.12.04.00.00          NaN   \n",
       "1155  1000068              2 2013-04-26    bxi1.        02120400          NaN   \n",
       "1926  1000170              1 2017-01-26  bxi2.00             NaN  320030001.0   \n",
       "2002  1000193              3 1998-11-27      NaN  02.12.04.00.00          NaN   \n",
       "\n",
       "                              drug_name                     quantity  \n",
       "243           Atorvastatin 20mg tablets                    28 tablet  \n",
       "940            Simvastatin 20mg tablets           56 tablets - 20 mg  \n",
       "1155          Atorvastatin 10mg tablets                       56.000  \n",
       "1926          Atorvastatin 20mg tablets                       28.000  \n",
       "2002  Cerivastatin 100microgram tablets  42 tablets - 100 micrograms  "
      ]
     },
     "execution_count": 23,
     "metadata": {},
     "output_type": "execute_result"
    }
   ],
   "source": [
    "df_statins_initiation_date.head()"
   ]
  },
  {
   "cell_type": "markdown",
   "id": "150322ff-03d7-45e6-832b-12c8a6b4ffb3",
   "metadata": {},
   "source": [
    "## Antihypertensives"
   ]
  },
  {
   "cell_type": "code",
   "execution_count": null,
   "id": "051aa5d5-a744-4bd9-97b3-1c0a6bb17ebd",
   "metadata": {},
   "outputs": [],
   "source": [
    "df_antihypertensive = pd.read_csv(antihypertensives_file)\n",
    "df_antihypertensive.shape"
   ]
  },
  {
   "cell_type": "code",
   "execution_count": 23,
   "id": "2d099158-e28a-43fd-82a4-926ff15565e3",
   "metadata": {},
   "outputs": [
    {
     "data": {
      "text/html": [
       "<div>\n",
       "<style scoped>\n",
       "    .dataframe tbody tr th:only-of-type {\n",
       "        vertical-align: middle;\n",
       "    }\n",
       "\n",
       "    .dataframe tbody tr th {\n",
       "        vertical-align: top;\n",
       "    }\n",
       "\n",
       "    .dataframe thead th {\n",
       "        text-align: right;\n",
       "    }\n",
       "</style>\n",
       "<table border=\"1\" class=\"dataframe\">\n",
       "  <thead>\n",
       "    <tr style=\"text-align: right;\">\n",
       "      <th></th>\n",
       "      <th>prodcodeid</th>\n",
       "      <th>termfromemis</th>\n",
       "      <th>productname</th>\n",
       "      <th>drugsubstancename</th>\n",
       "      <th>bnfchapter</th>\n",
       "      <th>dmdid</th>\n",
       "    </tr>\n",
       "  </thead>\n",
       "  <tbody>\n",
       "    <tr>\n",
       "      <th>0</th>\n",
       "      <td>246241000033116</td>\n",
       "      <td>Chlorothiazide 250mg/5ml oral suspension</td>\n",
       "      <td>Chlorothiazide 250mg/5ml oral suspension</td>\n",
       "      <td>Chlorothiazide</td>\n",
       "      <td>2020100.0</td>\n",
       "      <td>408039005</td>\n",
       "    </tr>\n",
       "    <tr>\n",
       "      <th>1</th>\n",
       "      <td>395041000033117</td>\n",
       "      <td>Cyclopenthiazide 500microgram tablets</td>\n",
       "      <td>Cyclopenthiazide 500microgram tablets</td>\n",
       "      <td>Cyclopenthiazide</td>\n",
       "      <td>2020100.0</td>\n",
       "      <td>317940003</td>\n",
       "    </tr>\n",
       "    <tr>\n",
       "      <th>2</th>\n",
       "      <td>744941000033110</td>\n",
       "      <td>Hydrochlorothiazide 25mg tablets</td>\n",
       "      <td>Hydrochlorothiazide 25mg tablets</td>\n",
       "      <td>Hydrochlorothiazide</td>\n",
       "      <td>2020100.0</td>\n",
       "      <td>376209006</td>\n",
       "    </tr>\n",
       "    <tr>\n",
       "      <th>3</th>\n",
       "      <td>745441000033118</td>\n",
       "      <td>Hydrochlorothiazide 50mg tablets</td>\n",
       "      <td>Hydrochlorothiazide 50mg tablets</td>\n",
       "      <td>Hydrochlorothiazide</td>\n",
       "      <td>2020100.0</td>\n",
       "      <td>376508004</td>\n",
       "    </tr>\n",
       "    <tr>\n",
       "      <th>4</th>\n",
       "      <td>765741000033116</td>\n",
       "      <td>Indapamide 1.5mg modified-release tablets</td>\n",
       "      <td>Indapamide 1.5mg modified-release tablets</td>\n",
       "      <td>Indapamide</td>\n",
       "      <td>2020100.0</td>\n",
       "      <td>39020711000001100</td>\n",
       "    </tr>\n",
       "  </tbody>\n",
       "</table>\n",
       "</div>"
      ],
      "text/plain": [
       "        prodcodeid                               termfromemis  \\\n",
       "0  246241000033116   Chlorothiazide 250mg/5ml oral suspension   \n",
       "1  395041000033117      Cyclopenthiazide 500microgram tablets   \n",
       "2  744941000033110           Hydrochlorothiazide 25mg tablets   \n",
       "3  745441000033118           Hydrochlorothiazide 50mg tablets   \n",
       "4  765741000033116  Indapamide 1.5mg modified-release tablets   \n",
       "\n",
       "                                 productname    drugsubstancename  bnfchapter  \\\n",
       "0   Chlorothiazide 250mg/5ml oral suspension       Chlorothiazide   2020100.0   \n",
       "1      Cyclopenthiazide 500microgram tablets     Cyclopenthiazide   2020100.0   \n",
       "2           Hydrochlorothiazide 25mg tablets  Hydrochlorothiazide   2020100.0   \n",
       "3           Hydrochlorothiazide 50mg tablets  Hydrochlorothiazide   2020100.0   \n",
       "4  Indapamide 1.5mg modified-release tablets           Indapamide   2020100.0   \n",
       "\n",
       "               dmdid  \n",
       "0          408039005  \n",
       "1          317940003  \n",
       "2          376209006  \n",
       "3          376508004  \n",
       "4  39020711000001100  "
      ]
     },
     "execution_count": 23,
     "metadata": {},
     "output_type": "execute_result"
    }
   ],
   "source": [
    "df_antihypertensive.head()"
   ]
  },
  {
   "cell_type": "code",
   "execution_count": null,
   "id": "dee5e76e-7cc3-4277-b428-21ecc103c1b0",
   "metadata": {},
   "outputs": [],
   "source": [
    "antihypertensive_drug_names = df_antihypertensive['productname'].unique()\n",
    "\n",
    "len(antihypertensive_drug_names)"
   ]
  },
  {
   "cell_type": "code",
   "execution_count": 24,
   "id": "baebb7df-6c10-44dc-b298-5575fc78ae82",
   "metadata": {},
   "outputs": [
    {
     "name": "stderr",
     "output_type": "stream",
     "text": [
      "C:\\Users\\i.bermejo\\AppData\\Local\\Temp\\ipykernel_17664\\1159518436.py:6: UserWarning: This pattern is interpreted as a regular expression, and has match groups. To actually get the groups, use str.extract.\n",
      "  df_antihypertensive_prescriptions = dataset[dataset['drug_name'].str.contains(regex_pattern, regex=True)]\n"
     ]
    }
   ],
   "source": [
    "# Create a regex pattern from the search strings, joining them with '|', and setting case insensitive flag\n",
    "pattern = '|'.join(antihypertensive_drug_names)\n",
    "regex_pattern = f\"(?i)({pattern})\"\n",
    "\n",
    "# Filter the DataFrame\n",
    "df_antihypertensive_prescriptions = dataset[dataset['drug_name'].str.contains(regex_pattern, regex=True)]"
   ]
  },
  {
   "cell_type": "code",
   "execution_count": 25,
   "id": "ae561cf2-34ec-420b-81c8-f33a584dfbca",
   "metadata": {},
   "outputs": [
    {
     "data": {
      "text/plain": [
       "(6349370, 8)"
      ]
     },
     "execution_count": 25,
     "metadata": {},
     "output_type": "execute_result"
    }
   ],
   "source": [
    "df_antihypertensive_prescriptions.shape"
   ]
  },
  {
   "cell_type": "code",
   "execution_count": 26,
   "id": "a2fb7d1a-9be8-4f1f-bb21-2d8302434375",
   "metadata": {},
   "outputs": [
    {
     "name": "stderr",
     "output_type": "stream",
     "text": [
      "C:\\Users\\i.bermejo\\AppData\\Local\\Temp\\ipykernel_17664\\1750216800.py:2: SettingWithCopyWarning: \n",
      "A value is trying to be set on a copy of a slice from a DataFrame.\n",
      "Try using .loc[row_indexer,col_indexer] = value instead\n",
      "\n",
      "See the caveats in the documentation: https://pandas.pydata.org/pandas-docs/stable/user_guide/indexing.html#returning-a-view-versus-a-copy\n",
      "  df_antihypertensive_prescriptions['issue_date'] = pd.to_datetime(df_antihypertensive_prescriptions['issue_date'],  format='%d/%m/%Y')\n"
     ]
    },
    {
     "data": {
      "text/plain": [
       "(79365, 8)"
      ]
     },
     "execution_count": 26,
     "metadata": {},
     "output_type": "execute_result"
    }
   ],
   "source": [
    "# Convert the Date column to datetime\n",
    "df_antihypertensive_prescriptions['issue_date'] = pd.to_datetime(df_antihypertensive_prescriptions['issue_date'],  format='%d/%m/%Y')\n",
    "\n",
    "# Sort the DataFrame by 'eid' and 'issue_date'\n",
    "df_antihypertensive_prescriptions_sorted = df_antihypertensive_prescriptions.sort_values(by=['eid', 'issue_date'])\n",
    "\n",
    "# Drop duplicates, keeping only the first occurrence for each person\n",
    "df_antihypertensive_initiation_date = df_antihypertensive_prescriptions_sorted.drop_duplicates(subset=['eid'], keep='first')\n",
    "df_antihypertensive_initiation_date.shape"
   ]
  },
  {
   "cell_type": "code",
   "execution_count": 27,
   "id": "f794cd72-0efb-4f06-9203-cbd6eb29db6a",
   "metadata": {},
   "outputs": [
    {
     "data": {
      "text/html": [
       "<div>\n",
       "<style scoped>\n",
       "    .dataframe tbody tr th:only-of-type {\n",
       "        vertical-align: middle;\n",
       "    }\n",
       "\n",
       "    .dataframe tbody tr th {\n",
       "        vertical-align: top;\n",
       "    }\n",
       "\n",
       "    .dataframe thead th {\n",
       "        text-align: right;\n",
       "    }\n",
       "</style>\n",
       "<table border=\"1\" class=\"dataframe\">\n",
       "  <thead>\n",
       "    <tr style=\"text-align: right;\">\n",
       "      <th></th>\n",
       "      <th>eid</th>\n",
       "      <th>data_provider</th>\n",
       "      <th>issue_date</th>\n",
       "      <th>read_2</th>\n",
       "      <th>bnf_code</th>\n",
       "      <th>dmd_code</th>\n",
       "      <th>drug_name</th>\n",
       "      <th>quantity</th>\n",
       "    </tr>\n",
       "  </thead>\n",
       "  <tbody>\n",
       "    <tr>\n",
       "      <th>43</th>\n",
       "      <td>1000025</td>\n",
       "      <td>3</td>\n",
       "      <td>1996-09-02</td>\n",
       "      <td>NaN</td>\n",
       "      <td>02.06.02.00.00</td>\n",
       "      <td>NaN</td>\n",
       "      <td>Istin 5mg tablets (Pfizer Ltd)</td>\n",
       "      <td>1 OP</td>\n",
       "    </tr>\n",
       "    <tr>\n",
       "      <th>862</th>\n",
       "      <td>1000041</td>\n",
       "      <td>3</td>\n",
       "      <td>2009-04-06</td>\n",
       "      <td>NaN</td>\n",
       "      <td>02.06.02.00.00</td>\n",
       "      <td>NaN</td>\n",
       "      <td>Amlodipine 10mg tablets</td>\n",
       "      <td>28 tablet(s) - 10 mg</td>\n",
       "    </tr>\n",
       "    <tr>\n",
       "      <th>1565</th>\n",
       "      <td>1000142</td>\n",
       "      <td>3</td>\n",
       "      <td>2009-09-18</td>\n",
       "      <td>NaN</td>\n",
       "      <td>02.05.05.01.00</td>\n",
       "      <td>NaN</td>\n",
       "      <td>Ramipril 1.25mg capsules</td>\n",
       "      <td>28 capsule - 1.25 mg</td>\n",
       "    </tr>\n",
       "    <tr>\n",
       "      <th>1877</th>\n",
       "      <td>1000158</td>\n",
       "      <td>3</td>\n",
       "      <td>2005-03-03</td>\n",
       "      <td>NaN</td>\n",
       "      <td>02.02.01.00.00</td>\n",
       "      <td>NaN</td>\n",
       "      <td>Bendroflumethiazide 2.5mg tablets</td>\n",
       "      <td>56 - tablet(s)</td>\n",
       "    </tr>\n",
       "    <tr>\n",
       "      <th>1972</th>\n",
       "      <td>1000193</td>\n",
       "      <td>3</td>\n",
       "      <td>2015-03-12</td>\n",
       "      <td>NaN</td>\n",
       "      <td>02.06.02.00.00</td>\n",
       "      <td>NaN</td>\n",
       "      <td>Amlodipine 5mg tablets</td>\n",
       "      <td>28 tablet</td>\n",
       "    </tr>\n",
       "  </tbody>\n",
       "</table>\n",
       "</div>"
      ],
      "text/plain": [
       "          eid  data_provider issue_date read_2        bnf_code  dmd_code  \\\n",
       "43    1000025              3 1996-09-02    NaN  02.06.02.00.00       NaN   \n",
       "862   1000041              3 2009-04-06    NaN  02.06.02.00.00       NaN   \n",
       "1565  1000142              3 2009-09-18    NaN  02.05.05.01.00       NaN   \n",
       "1877  1000158              3 2005-03-03    NaN  02.02.01.00.00       NaN   \n",
       "1972  1000193              3 2015-03-12    NaN  02.06.02.00.00       NaN   \n",
       "\n",
       "                              drug_name              quantity  \n",
       "43       Istin 5mg tablets (Pfizer Ltd)                  1 OP  \n",
       "862             Amlodipine 10mg tablets  28 tablet(s) - 10 mg  \n",
       "1565           Ramipril 1.25mg capsules  28 capsule - 1.25 mg  \n",
       "1877  Bendroflumethiazide 2.5mg tablets        56 - tablet(s)  \n",
       "1972             Amlodipine 5mg tablets             28 tablet  "
      ]
     },
     "execution_count": 27,
     "metadata": {},
     "output_type": "execute_result"
    }
   ],
   "source": [
    "df_antihypertensive_initiation_date.head()"
   ]
  },
  {
   "cell_type": "code",
   "execution_count": 28,
   "id": "b8b28140-fa6a-4bbe-9de1-8a567acb9cb0",
   "metadata": {},
   "outputs": [],
   "source": [
    "df_antihypertensive_initiation_date.to_csv(folder + \"antihypertensive_initiation.csv\", index = False)"
   ]
  },
  {
   "cell_type": "code",
   "execution_count": null,
   "id": "86947442-85ce-4aa5-bce9-ad80dc098dd8",
   "metadata": {},
   "outputs": [],
   "source": []
  }
 ],
 "metadata": {
  "kernelspec": {
   "display_name": "Python 3 (ipykernel)",
   "language": "python",
   "name": "python3"
  },
  "language_info": {
   "codemirror_mode": {
    "name": "ipython",
    "version": 3
   },
   "file_extension": ".py",
   "mimetype": "text/x-python",
   "name": "python",
   "nbconvert_exporter": "python",
   "pygments_lexer": "ipython3",
   "version": "3.10.5"
  }
 },
 "nbformat": 4,
 "nbformat_minor": 5
}
