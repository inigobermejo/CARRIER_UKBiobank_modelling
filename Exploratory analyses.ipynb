{
 "cells": [
  {
   "cell_type": "code",
   "execution_count": 3,
   "id": "532e4774",
   "metadata": {},
   "outputs": [],
   "source": [
    "import pandas as pd\n",
    "from datetime import datetime\n",
    "from scipy.stats import percentileofscore\n",
    "from sklearn.preprocessing import MinMaxScaler\n",
    "import numpy as np\n",
    "import matplotlib.pyplot as plt\n",
    "import math\n",
    "from functools import reduce\n",
    "from typing import Sequence\n",
    "from collections import Counter"
   ]
  },
  {
   "cell_type": "code",
   "execution_count": 4,
   "id": "f47f7262",
   "metadata": {},
   "outputs": [
    {
     "name": "stderr",
     "output_type": "stream",
     "text": [
      "C:\\Users\\i.bermejo\\AppData\\Local\\Temp\\ipykernel_25976\\981591657.py:7: DtypeWarning: Columns (114) have mixed types. Specify dtype option on import or set low_memory=False.\n",
      "  dataset = pd.read_csv(file)\n"
     ]
    }
   ],
   "source": [
    "#Rename the file to be correct and make sure the correct instance is used.\n",
    "instance = 0\n",
    "folder = 'C:\\\\Users\\\\i.bermejo\\\\Documents\\\\Data\\\\CARRIER\\\\UKBB\\\\'\n",
    "file = folder + 'data_participant.csv'\n",
    "file2 = folder + \"data_death_cause.csv\" #the causes of death are in a different dataset.\n",
    "percentiles = pd.read_csv(\"deprivation percentiles.csv\")\n",
    "dataset = pd.read_csv(file)\n",
    "death_data = pd.read_csv(file2)\n",
    "death_data = death_data.groupby(\"eid\").agg(\"|\".join) #collapse the causes of death data to have the same length as the dataset\n",
    "data = pd.merge(dataset.reset_index(), death_data.reset_index(), on = \"eid\", how = \"left\") #combine the datasets."
   ]
  },
  {
   "cell_type": "code",
   "execution_count": 5,
   "id": "95caadec-1e85-4e80-82ac-ee7a9ad73a93",
   "metadata": {},
   "outputs": [
    {
     "data": {
      "text/html": [
       "<div>\n",
       "<style scoped>\n",
       "    .dataframe tbody tr th:only-of-type {\n",
       "        vertical-align: middle;\n",
       "    }\n",
       "\n",
       "    .dataframe tbody tr th {\n",
       "        vertical-align: top;\n",
       "    }\n",
       "\n",
       "    .dataframe thead th {\n",
       "        text-align: right;\n",
       "    }\n",
       "</style>\n",
       "<table border=\"1\" class=\"dataframe\">\n",
       "  <thead>\n",
       "    <tr style=\"text-align: right;\">\n",
       "      <th></th>\n",
       "      <th>dnx_death_cause_id</th>\n",
       "      <th>cause_icd10</th>\n",
       "    </tr>\n",
       "    <tr>\n",
       "      <th>eid</th>\n",
       "      <th></th>\n",
       "      <th></th>\n",
       "    </tr>\n",
       "  </thead>\n",
       "  <tbody>\n",
       "    <tr>\n",
       "      <th>1000210</th>\n",
       "      <td>1000210-0-0</td>\n",
       "      <td>C56</td>\n",
       "    </tr>\n",
       "    <tr>\n",
       "      <th>1001624</th>\n",
       "      <td>1001624-0-2|1001624-0-1|1001624-0-0|1001624-0-3</td>\n",
       "      <td>J849|J189|U071|M069</td>\n",
       "    </tr>\n",
       "    <tr>\n",
       "      <th>1004324</th>\n",
       "      <td>1004324-0-2|1004324-0-1|1004324-0-0</td>\n",
       "      <td>C61|C80|C679</td>\n",
       "    </tr>\n",
       "    <tr>\n",
       "      <th>1006549</th>\n",
       "      <td>1006549-0-2|1006549-0-0|1006549-0-1</td>\n",
       "      <td>A419|K509|K631</td>\n",
       "    </tr>\n",
       "    <tr>\n",
       "      <th>1008144</th>\n",
       "      <td>1008144-0-1|1008144-0-0</td>\n",
       "      <td>I312|I710</td>\n",
       "    </tr>\n",
       "  </tbody>\n",
       "</table>\n",
       "</div>"
      ],
      "text/plain": [
       "                                      dnx_death_cause_id          cause_icd10\n",
       "eid                                                                          \n",
       "1000210                                      1000210-0-0                  C56\n",
       "1001624  1001624-0-2|1001624-0-1|1001624-0-0|1001624-0-3  J849|J189|U071|M069\n",
       "1004324              1004324-0-2|1004324-0-1|1004324-0-0         C61|C80|C679\n",
       "1006549              1006549-0-2|1006549-0-0|1006549-0-1       A419|K509|K631\n",
       "1008144                          1008144-0-1|1008144-0-0            I312|I710"
      ]
     },
     "execution_count": 5,
     "metadata": {},
     "output_type": "execute_result"
    }
   ],
   "source": [
    "death_data.head()"
   ]
  },
  {
   "cell_type": "code",
   "execution_count": 6,
   "id": "92ee2942-c6ca-49ab-a638-36805404c576",
   "metadata": {},
   "outputs": [
    {
     "data": {
      "text/plain": [
       "array(['C56', 'J849|J189|U071|M069', 'C61|C80|C679', ...,\n",
       "       'K562|G318|J189|R688', 'J690|I48|J81|C349', 'X708|R55|T71'],\n",
       "      dtype=object)"
      ]
     },
     "execution_count": 6,
     "metadata": {},
     "output_type": "execute_result"
    }
   ],
   "source": [
    "death_data['cause_icd10'].unique)"
   ]
  },
  {
   "cell_type": "code",
   "execution_count": 82,
   "id": "27091588-5e13-4017-b317-d48119becc5d",
   "metadata": {},
   "outputs": [
    {
     "data": {
      "text/plain": [
       "(36866, 117)"
      ]
     },
     "execution_count": 82,
     "metadata": {},
     "output_type": "execute_result"
    }
   ],
   "source": [
    "dataset.shape"
   ]
  },
  {
   "cell_type": "code",
   "execution_count": 83,
   "id": "caf87d7f-0b82-4d84-9ab9-ab1331b753ac",
   "metadata": {},
   "outputs": [
    {
     "data": {
      "text/html": [
       "<div>\n",
       "<style scoped>\n",
       "    .dataframe tbody tr th:only-of-type {\n",
       "        vertical-align: middle;\n",
       "    }\n",
       "\n",
       "    .dataframe tbody tr th {\n",
       "        vertical-align: top;\n",
       "    }\n",
       "\n",
       "    .dataframe thead th {\n",
       "        text-align: right;\n",
       "    }\n",
       "</style>\n",
       "<table border=\"1\" class=\"dataframe\">\n",
       "  <thead>\n",
       "    <tr style=\"text-align: right;\">\n",
       "      <th></th>\n",
       "      <th>eid</th>\n",
       "      <th>31-0.0</th>\n",
       "      <th>20116-0.0</th>\n",
       "      <th>6177-0.0</th>\n",
       "      <th>6153-0.0</th>\n",
       "      <th>4080-0.0</th>\n",
       "      <th>4080-0.1</th>\n",
       "      <th>26410-0.0</th>\n",
       "      <th>26427-0.0</th>\n",
       "      <th>26426-0.0</th>\n",
       "      <th>...</th>\n",
       "      <th>26093-0.0</th>\n",
       "      <th>26144-0.0</th>\n",
       "      <th>26083-0.0</th>\n",
       "      <th>26134-0.0</th>\n",
       "      <th>26150-0.0</th>\n",
       "      <th>2443-0.0</th>\n",
       "      <th>131374-0.0</th>\n",
       "      <th>131376-0.0</th>\n",
       "      <th>131388-0.0</th>\n",
       "      <th>40000-0.0</th>\n",
       "    </tr>\n",
       "  </thead>\n",
       "  <tbody>\n",
       "    <tr>\n",
       "      <th>0</th>\n",
       "      <td>1000771</td>\n",
       "      <td>0</td>\n",
       "      <td>0</td>\n",
       "      <td>NaN</td>\n",
       "      <td>-7</td>\n",
       "      <td>115.0</td>\n",
       "      <td>110.0</td>\n",
       "      <td>12.97</td>\n",
       "      <td>NaN</td>\n",
       "      <td>NaN</td>\n",
       "      <td>...</td>\n",
       "      <td>210.0</td>\n",
       "      <td>0.0</td>\n",
       "      <td>0.0</td>\n",
       "      <td>0.0</td>\n",
       "      <td>0.0</td>\n",
       "      <td>0</td>\n",
       "      <td>NaN</td>\n",
       "      <td>NaN</td>\n",
       "      <td>NaN</td>\n",
       "      <td>NaN</td>\n",
       "    </tr>\n",
       "    <tr>\n",
       "      <th>1</th>\n",
       "      <td>1001066</td>\n",
       "      <td>0</td>\n",
       "      <td>0</td>\n",
       "      <td>NaN</td>\n",
       "      <td>-7</td>\n",
       "      <td>109.0</td>\n",
       "      <td>107.0</td>\n",
       "      <td>8.61</td>\n",
       "      <td>NaN</td>\n",
       "      <td>NaN</td>\n",
       "      <td>...</td>\n",
       "      <td>205.0</td>\n",
       "      <td>0.0</td>\n",
       "      <td>0.0</td>\n",
       "      <td>0.0</td>\n",
       "      <td>0.0</td>\n",
       "      <td>0</td>\n",
       "      <td>NaN</td>\n",
       "      <td>NaN</td>\n",
       "      <td>NaN</td>\n",
       "      <td>NaN</td>\n",
       "    </tr>\n",
       "    <tr>\n",
       "      <th>2</th>\n",
       "      <td>1002412</td>\n",
       "      <td>0</td>\n",
       "      <td>0</td>\n",
       "      <td>NaN</td>\n",
       "      <td>-7</td>\n",
       "      <td>104.0</td>\n",
       "      <td>114.0</td>\n",
       "      <td>31.03</td>\n",
       "      <td>NaN</td>\n",
       "      <td>NaN</td>\n",
       "      <td>...</td>\n",
       "      <td>200.0</td>\n",
       "      <td>0.0</td>\n",
       "      <td>0.0</td>\n",
       "      <td>120.0</td>\n",
       "      <td>0.0</td>\n",
       "      <td>0</td>\n",
       "      <td>NaN</td>\n",
       "      <td>NaN</td>\n",
       "      <td>NaN</td>\n",
       "      <td>NaN</td>\n",
       "    </tr>\n",
       "    <tr>\n",
       "      <th>3</th>\n",
       "      <td>1002445</td>\n",
       "      <td>0</td>\n",
       "      <td>0</td>\n",
       "      <td>NaN</td>\n",
       "      <td>-7</td>\n",
       "      <td>176.0</td>\n",
       "      <td>154.0</td>\n",
       "      <td>5.47</td>\n",
       "      <td>NaN</td>\n",
       "      <td>NaN</td>\n",
       "      <td>...</td>\n",
       "      <td>305.0</td>\n",
       "      <td>0.0</td>\n",
       "      <td>0.0</td>\n",
       "      <td>0.0</td>\n",
       "      <td>0.0</td>\n",
       "      <td>0</td>\n",
       "      <td>NaN</td>\n",
       "      <td>NaN</td>\n",
       "      <td>NaN</td>\n",
       "      <td>NaN</td>\n",
       "    </tr>\n",
       "    <tr>\n",
       "      <th>4</th>\n",
       "      <td>1003161</td>\n",
       "      <td>0</td>\n",
       "      <td>1</td>\n",
       "      <td>NaN</td>\n",
       "      <td>-7</td>\n",
       "      <td>151.0</td>\n",
       "      <td>126.0</td>\n",
       "      <td>30.36</td>\n",
       "      <td>NaN</td>\n",
       "      <td>NaN</td>\n",
       "      <td>...</td>\n",
       "      <td>100.0</td>\n",
       "      <td>0.0</td>\n",
       "      <td>0.0</td>\n",
       "      <td>0.0</td>\n",
       "      <td>0.0</td>\n",
       "      <td>0</td>\n",
       "      <td>NaN</td>\n",
       "      <td>NaN</td>\n",
       "      <td>NaN</td>\n",
       "      <td>NaN</td>\n",
       "    </tr>\n",
       "  </tbody>\n",
       "</table>\n",
       "<p>5 rows × 117 columns</p>\n",
       "</div>"
      ],
      "text/plain": [
       "       eid  31-0.0  20116-0.0 6177-0.0 6153-0.0  4080-0.0  4080-0.1  \\\n",
       "0  1000771       0          0      NaN       -7     115.0     110.0   \n",
       "1  1001066       0          0      NaN       -7     109.0     107.0   \n",
       "2  1002412       0          0      NaN       -7     104.0     114.0   \n",
       "3  1002445       0          0      NaN       -7     176.0     154.0   \n",
       "4  1003161       0          1      NaN       -7     151.0     126.0   \n",
       "\n",
       "   26410-0.0  26427-0.0  26426-0.0  ...  26093-0.0  26144-0.0  26083-0.0  \\\n",
       "0      12.97        NaN        NaN  ...      210.0        0.0        0.0   \n",
       "1       8.61        NaN        NaN  ...      205.0        0.0        0.0   \n",
       "2      31.03        NaN        NaN  ...      200.0        0.0        0.0   \n",
       "3       5.47        NaN        NaN  ...      305.0        0.0        0.0   \n",
       "4      30.36        NaN        NaN  ...      100.0        0.0        0.0   \n",
       "\n",
       "  26134-0.0 26150-0.0  2443-0.0  131374-0.0  131376-0.0  131388-0.0  40000-0.0  \n",
       "0       0.0       0.0         0         NaN         NaN         NaN        NaN  \n",
       "1       0.0       0.0         0         NaN         NaN         NaN        NaN  \n",
       "2     120.0       0.0         0         NaN         NaN         NaN        NaN  \n",
       "3       0.0       0.0         0         NaN         NaN         NaN        NaN  \n",
       "4       0.0       0.0         0         NaN         NaN         NaN        NaN  \n",
       "\n",
       "[5 rows x 117 columns]"
      ]
     },
     "execution_count": 83,
     "metadata": {},
     "output_type": "execute_result"
    }
   ],
   "source": [
    "dataset.head()"
   ]
  },
  {
   "cell_type": "code",
   "execution_count": 84,
   "id": "f9abf624-5e1e-43d6-8e9e-28fce8650896",
   "metadata": {},
   "outputs": [
    {
     "data": {
      "text/plain": [
       "0    20211\n",
       "1    16655\n",
       "Name: 31-0.0, dtype: int64"
      ]
     },
     "execution_count": 84,
     "metadata": {},
     "output_type": "execute_result"
    }
   ],
   "source": [
    "# Sex\n",
    "dataset['31-0.0'].value_counts()"
   ]
  },
  {
   "cell_type": "code",
   "execution_count": 85,
   "id": "08f7b912-e269-4bce-9753-9f7ad966fb35",
   "metadata": {},
   "outputs": [
    {
     "data": {
      "text/plain": [
       "0    21022\n",
       "1    12803\n",
       "2     3041\n",
       "Name: 20116-0.0, dtype: int64"
      ]
     },
     "execution_count": 85,
     "metadata": {},
     "output_type": "execute_result"
    }
   ],
   "source": [
    "# Smoking status: 0 - Never, 1 - Previous, 2 - Current\n",
    "dataset['20116-0.0'].value_counts() "
   ]
  },
  {
   "cell_type": "code",
   "execution_count": 86,
   "id": "19d4a55f-4d4e-4589-9dce-0b1d8135bb42",
   "metadata": {},
   "outputs": [
    {
     "data": {
      "text/plain": [
       "-7       11207\n",
       "1|2       2300\n",
       "2         1565\n",
       "1         1391\n",
       "1|2|3      108\n",
       "1|3         51\n",
       "3           25\n",
       "2|3          8\n",
       "Name: 6177-0.0, dtype: int64"
      ]
     },
     "execution_count": 86,
     "metadata": {},
     "output_type": "execute_result"
    }
   ],
   "source": [
    "# Medication for cholesterol, blood pressure or diabetes\n",
    "dataset['6177-0.0'].value_counts()"
   ]
  },
  {
   "cell_type": "code",
   "execution_count": 87,
   "id": "6d7ebacf-5153-494c-91c3-25ff8b0f3008",
   "metadata": {},
   "outputs": [
    {
     "data": {
      "text/plain": [
       "-7         14244\n",
       "2           1740\n",
       "1|2         1150\n",
       "4           1096\n",
       "1            961\n",
       "5            504\n",
       "2|4          153\n",
       "1|2|4         77\n",
       "1|4           76\n",
       "1|2|3         70\n",
       "1|3           39\n",
       "3             21\n",
       "4|5           21\n",
       "2|5           17\n",
       "2|3            7\n",
       "1|5            7\n",
       "1|2|3|4        6\n",
       "1|4|5          5\n",
       "1|2|5          5\n",
       "1|3|4          3\n",
       "3|5            2\n",
       "1|3|5          1\n",
       "1|2|3|5        1\n",
       "2|4|5          1\n",
       "1|2|4|5        1\n",
       "2|3|5          1\n",
       "3|4            1\n",
       "Name: 6153-0.0, dtype: int64"
      ]
     },
     "execution_count": 87,
     "metadata": {},
     "output_type": "execute_result"
    }
   ],
   "source": [
    "# Medication for cholesterol, blood pressure, diabetes, or take exogenous hormones\n",
    "dataset['6153-0.0'].value_counts()"
   ]
  },
  {
   "cell_type": "code",
   "execution_count": 88,
   "id": "28608ed0-594b-4865-ad10-b1baf82f7366",
   "metadata": {},
   "outputs": [
    {
     "data": {
      "image/png": "[encoded data removed]",
      "text/plain": [
       "<Figure size 640x480 with 1 Axes>"
      ]
     },
     "metadata": {},
     "output_type": "display_data"
    }
   ],
   "source": [
    "#Systolic blood pressure, automated reading\n",
    "plt.hist(dataset['4080-0.0'], bins = 50)\n",
    "plt.show() "
   ]
  },
  {
   "cell_type": "code",
   "execution_count": 89,
   "id": "31bedc80-826c-4dc9-95a7-a39ce8a5e8a7",
   "metadata": {},
   "outputs": [
    {
     "data": {
      "text/plain": [
       "0       NaN\n",
       "1       NaN\n",
       "2       NaN\n",
       "3       NaN\n",
       "4       NaN\n",
       "         ..\n",
       "36861   NaN\n",
       "36862   NaN\n",
       "36863   NaN\n",
       "36864   NaN\n",
       "36865   NaN\n",
       "Name: 26426-0.0, Length: 36866, dtype: float64"
      ]
     },
     "execution_count": 89,
     "metadata": {},
     "output_type": "execute_result"
    }
   ],
   "source": [
    "dataset['26426-0.0']"
   ]
  },
  {
   "cell_type": "code",
   "execution_count": 90,
   "id": "8c16336a-e48e-44b4-9d24-fb9cd61d47b3",
   "metadata": {},
   "outputs": [
    {
     "name": "stderr",
     "output_type": "stream",
     "text": [
      "C:\\Python310\\lib\\site-packages\\matplotlib\\axes\\_axes.py:6763: RuntimeWarning: All-NaN slice encountered\n",
      "  xmin = min(xmin, np.nanmin(xi))\n",
      "C:\\Python310\\lib\\site-packages\\matplotlib\\axes\\_axes.py:6764: RuntimeWarning: All-NaN slice encountered\n",
      "  xmax = max(xmax, np.nanmax(xi))\n"
     ]
    },
    {
     "ename": "ValueError",
     "evalue": "autodetected range of [nan, nan] is not finite",
     "output_type": "error",
     "traceback": [
      "\u001b[1;31m---------------------------------------------------------------------------\u001b[0m",
      "\u001b[1;31mValueError\u001b[0m                                Traceback (most recent call last)",
      "Cell \u001b[1;32mIn[90], line 8\u001b[0m\n\u001b[0;32m      5\u001b[0m axes[\u001b[38;5;241m0\u001b[39m]\u001b[38;5;241m.\u001b[39mhist(dataset[\u001b[38;5;124m'\u001b[39m\u001b[38;5;124m26410-0.0\u001b[39m\u001b[38;5;124m'\u001b[39m], bins \u001b[38;5;241m=\u001b[39m \u001b[38;5;241m50\u001b[39m, color\u001b[38;5;241m=\u001b[39m\u001b[38;5;124m'\u001b[39m\u001b[38;5;124mblue\u001b[39m\u001b[38;5;124m'\u001b[39m, alpha\u001b[38;5;241m=\u001b[39m\u001b[38;5;241m0.7\u001b[39m)\n\u001b[0;32m      6\u001b[0m axes[\u001b[38;5;241m0\u001b[39m]\u001b[38;5;241m.\u001b[39mset_title(\u001b[38;5;124m'\u001b[39m\u001b[38;5;124mEngland\u001b[39m\u001b[38;5;124m'\u001b[39m)\n\u001b[1;32m----> 8\u001b[0m \u001b[43maxes\u001b[49m\u001b[43m[\u001b[49m\u001b[38;5;241;43m1\u001b[39;49m\u001b[43m]\u001b[49m\u001b[38;5;241;43m.\u001b[39;49m\u001b[43mhist\u001b[49m\u001b[43m(\u001b[49m\u001b[43mdataset\u001b[49m\u001b[43m[\u001b[49m\u001b[38;5;124;43m'\u001b[39;49m\u001b[38;5;124;43m26427-0.0\u001b[39;49m\u001b[38;5;124;43m'\u001b[39;49m\u001b[43m]\u001b[49m\u001b[43m,\u001b[49m\u001b[43m \u001b[49m\u001b[43mbins\u001b[49m\u001b[38;5;241;43m=\u001b[39;49m\u001b[38;5;241;43m50\u001b[39;49m\u001b[43m,\u001b[49m\u001b[43m \u001b[49m\u001b[43mcolor\u001b[49m\u001b[38;5;241;43m=\u001b[39;49m\u001b[38;5;124;43m'\u001b[39;49m\u001b[38;5;124;43mgreen\u001b[39;49m\u001b[38;5;124;43m'\u001b[39;49m\u001b[43m,\u001b[49m\u001b[43m \u001b[49m\u001b[43malpha\u001b[49m\u001b[38;5;241;43m=\u001b[39;49m\u001b[38;5;241;43m0.7\u001b[39;49m\u001b[43m)\u001b[49m\n\u001b[0;32m      9\u001b[0m axes[\u001b[38;5;241m1\u001b[39m]\u001b[38;5;241m.\u001b[39mset_title(\u001b[38;5;124m'\u001b[39m\u001b[38;5;124mScotland\u001b[39m\u001b[38;5;124m'\u001b[39m)\n\u001b[0;32m     11\u001b[0m axes[\u001b[38;5;241m2\u001b[39m]\u001b[38;5;241m.\u001b[39mhist(dataset[\u001b[38;5;124m'\u001b[39m\u001b[38;5;124m26426-0.0\u001b[39m\u001b[38;5;124m'\u001b[39m], bins\u001b[38;5;241m=\u001b[39m\u001b[38;5;241m30\u001b[39m, color\u001b[38;5;241m=\u001b[39m\u001b[38;5;124m'\u001b[39m\u001b[38;5;124mred\u001b[39m\u001b[38;5;124m'\u001b[39m, alpha\u001b[38;5;241m=\u001b[39m\u001b[38;5;241m0.7\u001b[39m)\n",
      "File \u001b[1;32mC:\\Python310\\lib\\site-packages\\matplotlib\\__init__.py:1461\u001b[0m, in \u001b[0;36m_preprocess_data.<locals>.inner\u001b[1;34m(ax, data, *args, **kwargs)\u001b[0m\n\u001b[0;32m   1458\u001b[0m \u001b[38;5;129m@functools\u001b[39m\u001b[38;5;241m.\u001b[39mwraps(func)\n\u001b[0;32m   1459\u001b[0m \u001b[38;5;28;01mdef\u001b[39;00m \u001b[38;5;21minner\u001b[39m(ax, \u001b[38;5;241m*\u001b[39margs, data\u001b[38;5;241m=\u001b[39m\u001b[38;5;28;01mNone\u001b[39;00m, \u001b[38;5;241m*\u001b[39m\u001b[38;5;241m*\u001b[39mkwargs):\n\u001b[0;32m   1460\u001b[0m     \u001b[38;5;28;01mif\u001b[39;00m data \u001b[38;5;129;01mis\u001b[39;00m \u001b[38;5;28;01mNone\u001b[39;00m:\n\u001b[1;32m-> 1461\u001b[0m         \u001b[38;5;28;01mreturn\u001b[39;00m func(ax, \u001b[38;5;241m*\u001b[39m\u001b[38;5;28mmap\u001b[39m(sanitize_sequence, args), \u001b[38;5;241m*\u001b[39m\u001b[38;5;241m*\u001b[39mkwargs)\n\u001b[0;32m   1463\u001b[0m     bound \u001b[38;5;241m=\u001b[39m new_sig\u001b[38;5;241m.\u001b[39mbind(ax, \u001b[38;5;241m*\u001b[39margs, \u001b[38;5;241m*\u001b[39m\u001b[38;5;241m*\u001b[39mkwargs)\n\u001b[0;32m   1464\u001b[0m     auto_label \u001b[38;5;241m=\u001b[39m (bound\u001b[38;5;241m.\u001b[39marguments\u001b[38;5;241m.\u001b[39mget(label_namer)\n\u001b[0;32m   1465\u001b[0m                   \u001b[38;5;129;01mor\u001b[39;00m bound\u001b[38;5;241m.\u001b[39mkwargs\u001b[38;5;241m.\u001b[39mget(label_namer))\n",
      "File \u001b[1;32mC:\\Python310\\lib\\site-packages\\matplotlib\\axes\\_axes.py:6791\u001b[0m, in \u001b[0;36mAxes.hist\u001b[1;34m(self, x, bins, range, density, weights, cumulative, bottom, histtype, align, orientation, rwidth, log, color, label, stacked, **kwargs)\u001b[0m\n\u001b[0;32m   6787\u001b[0m \u001b[38;5;66;03m# Loop through datasets\u001b[39;00m\n\u001b[0;32m   6788\u001b[0m \u001b[38;5;28;01mfor\u001b[39;00m i \u001b[38;5;129;01min\u001b[39;00m \u001b[38;5;28mrange\u001b[39m(nx):\n\u001b[0;32m   6789\u001b[0m     \u001b[38;5;66;03m# this will automatically overwrite bins,\u001b[39;00m\n\u001b[0;32m   6790\u001b[0m     \u001b[38;5;66;03m# so that each histogram uses the same bins\u001b[39;00m\n\u001b[1;32m-> 6791\u001b[0m     m, bins \u001b[38;5;241m=\u001b[39m np\u001b[38;5;241m.\u001b[39mhistogram(x[i], bins, weights\u001b[38;5;241m=\u001b[39mw[i], \u001b[38;5;241m*\u001b[39m\u001b[38;5;241m*\u001b[39mhist_kwargs)\n\u001b[0;32m   6792\u001b[0m     tops\u001b[38;5;241m.\u001b[39mappend(m)\n\u001b[0;32m   6793\u001b[0m tops \u001b[38;5;241m=\u001b[39m np\u001b[38;5;241m.\u001b[39marray(tops, \u001b[38;5;28mfloat\u001b[39m)  \u001b[38;5;66;03m# causes problems later if it's an int\u001b[39;00m\n",
      "File \u001b[1;32m<__array_function__ internals>:200\u001b[0m, in \u001b[0;36mhistogram\u001b[1;34m(*args, **kwargs)\u001b[0m\n",
      "File \u001b[1;32mC:\\Python310\\lib\\site-packages\\numpy\\lib\\histograms.py:780\u001b[0m, in \u001b[0;36mhistogram\u001b[1;34m(a, bins, range, density, weights)\u001b[0m\n\u001b[0;32m    680\u001b[0m \u001b[38;5;250m\u001b[39m\u001b[38;5;124mr\u001b[39m\u001b[38;5;124;03m\"\"\"\u001b[39;00m\n\u001b[0;32m    681\u001b[0m \u001b[38;5;124;03mCompute the histogram of a dataset.\u001b[39;00m\n\u001b[0;32m    682\u001b[0m \n\u001b[1;32m   (...)\u001b[0m\n\u001b[0;32m    776\u001b[0m \n\u001b[0;32m    777\u001b[0m \u001b[38;5;124;03m\"\"\"\u001b[39;00m\n\u001b[0;32m    778\u001b[0m a, weights \u001b[38;5;241m=\u001b[39m _ravel_and_check_weights(a, weights)\n\u001b[1;32m--> 780\u001b[0m bin_edges, uniform_bins \u001b[38;5;241m=\u001b[39m \u001b[43m_get_bin_edges\u001b[49m\u001b[43m(\u001b[49m\u001b[43ma\u001b[49m\u001b[43m,\u001b[49m\u001b[43m \u001b[49m\u001b[43mbins\u001b[49m\u001b[43m,\u001b[49m\u001b[43m \u001b[49m\u001b[38;5;28;43mrange\u001b[39;49m\u001b[43m,\u001b[49m\u001b[43m \u001b[49m\u001b[43mweights\u001b[49m\u001b[43m)\u001b[49m\n\u001b[0;32m    782\u001b[0m \u001b[38;5;66;03m# Histogram is an integer or a float array depending on the weights.\u001b[39;00m\n\u001b[0;32m    783\u001b[0m \u001b[38;5;28;01mif\u001b[39;00m weights \u001b[38;5;129;01mis\u001b[39;00m \u001b[38;5;28;01mNone\u001b[39;00m:\n",
      "File \u001b[1;32mC:\\Python310\\lib\\site-packages\\numpy\\lib\\histograms.py:426\u001b[0m, in \u001b[0;36m_get_bin_edges\u001b[1;34m(a, bins, range, weights)\u001b[0m\n\u001b[0;32m    423\u001b[0m     \u001b[38;5;28;01mif\u001b[39;00m n_equal_bins \u001b[38;5;241m<\u001b[39m \u001b[38;5;241m1\u001b[39m:\n\u001b[0;32m    424\u001b[0m         \u001b[38;5;28;01mraise\u001b[39;00m \u001b[38;5;167;01mValueError\u001b[39;00m(\u001b[38;5;124m'\u001b[39m\u001b[38;5;124m`bins` must be positive, when an integer\u001b[39m\u001b[38;5;124m'\u001b[39m)\n\u001b[1;32m--> 426\u001b[0m     first_edge, last_edge \u001b[38;5;241m=\u001b[39m \u001b[43m_get_outer_edges\u001b[49m\u001b[43m(\u001b[49m\u001b[43ma\u001b[49m\u001b[43m,\u001b[49m\u001b[43m \u001b[49m\u001b[38;5;28;43mrange\u001b[39;49m\u001b[43m)\u001b[49m\n\u001b[0;32m    428\u001b[0m \u001b[38;5;28;01melif\u001b[39;00m np\u001b[38;5;241m.\u001b[39mndim(bins) \u001b[38;5;241m==\u001b[39m \u001b[38;5;241m1\u001b[39m:\n\u001b[0;32m    429\u001b[0m     bin_edges \u001b[38;5;241m=\u001b[39m np\u001b[38;5;241m.\u001b[39masarray(bins)\n",
      "File \u001b[1;32mC:\\Python310\\lib\\site-packages\\numpy\\lib\\histograms.py:323\u001b[0m, in \u001b[0;36m_get_outer_edges\u001b[1;34m(a, range)\u001b[0m\n\u001b[0;32m    321\u001b[0m     first_edge, last_edge \u001b[38;5;241m=\u001b[39m a\u001b[38;5;241m.\u001b[39mmin(), a\u001b[38;5;241m.\u001b[39mmax()\n\u001b[0;32m    322\u001b[0m     \u001b[38;5;28;01mif\u001b[39;00m \u001b[38;5;129;01mnot\u001b[39;00m (np\u001b[38;5;241m.\u001b[39misfinite(first_edge) \u001b[38;5;129;01mand\u001b[39;00m np\u001b[38;5;241m.\u001b[39misfinite(last_edge)):\n\u001b[1;32m--> 323\u001b[0m         \u001b[38;5;28;01mraise\u001b[39;00m \u001b[38;5;167;01mValueError\u001b[39;00m(\n\u001b[0;32m    324\u001b[0m             \u001b[38;5;124m\"\u001b[39m\u001b[38;5;124mautodetected range of [\u001b[39m\u001b[38;5;132;01m{}\u001b[39;00m\u001b[38;5;124m, \u001b[39m\u001b[38;5;132;01m{}\u001b[39;00m\u001b[38;5;124m] is not finite\u001b[39m\u001b[38;5;124m\"\u001b[39m\u001b[38;5;241m.\u001b[39mformat(first_edge, last_edge))\n\u001b[0;32m    326\u001b[0m \u001b[38;5;66;03m# expand empty range to avoid divide by zero\u001b[39;00m\n\u001b[0;32m    327\u001b[0m \u001b[38;5;28;01mif\u001b[39;00m first_edge \u001b[38;5;241m==\u001b[39m last_edge:\n",
      "\u001b[1;31mValueError\u001b[0m: autodetected range of [nan, nan] is not finite"
     ]
    },
    {
     "data": {
      "image/png": "[encoded data removed]",
      "text/plain": [
       "<Figure size 1500x500 with 3 Axes>"
      ]
     },
     "metadata": {},
     "output_type": "display_data"
    }
   ],
   "source": [
    "# Index of Multiple Deprivation\n",
    "fig, axes = plt.subplots(1, 3, figsize=(15, 5))  # 1 row, 3 columns\n",
    "\n",
    "# Step 3: Plot each histogram in its respective subplot\n",
    "axes[0].hist(dataset['26410-0.0'], bins = 50, color='blue', alpha=0.7)\n",
    "axes[0].set_title('England')\n",
    "\n",
    "axes[1].hist(dataset['26427-0.0'], bins=50, color='green', alpha=0.7)\n",
    "axes[1].set_title('Scotland')\n",
    "\n",
    "axes[2].hist(dataset['26426-0.0'], bins=30, color='red', alpha=0.7)\n",
    "axes[2].set_title('Wales')\n",
    "\n",
    "# Step 4: Adjust layout to prevent overlap\n",
    "plt.tight_layout()"
   ]
  },
  {
   "cell_type": "code",
   "execution_count": 91,
   "id": "069535a6-09a5-463f-b1de-7b60f58ba9fd",
   "metadata": {},
   "outputs": [
    {
     "data": {
      "image/png": "[encoded data removed]",
      "text/plain": [
       "<Figure size 640x480 with 1 Axes>"
      ]
     },
     "metadata": {},
     "output_type": "display_data"
    }
   ],
   "source": [
    "# Age when attended assessment centre\n",
    "plt.hist(dataset['21003-0.0'], bins = 30)\n",
    "plt.show() "
   ]
  },
  {
   "cell_type": "code",
   "execution_count": 92,
   "id": "6dfd1ac3-12b7-4843-9484-0e4d1f2adb54",
   "metadata": {},
   "outputs": [
    {
     "data": {
      "image/png": "[encoded data removed]",
      "text/plain": [
       "<Figure size 640x480 with 1 Axes>"
      ]
     },
     "metadata": {},
     "output_type": "display_data"
    }
   ],
   "source": [
    "# Total cholesterol\n",
    "plt.hist(dataset['23400-0.0'], bins = 30)\n",
    "plt.show()"
   ]
  },
  {
   "cell_type": "code",
   "execution_count": 93,
   "id": "0b315645-5d2a-46b8-bdf8-a2d656d670c6",
   "metadata": {},
   "outputs": [
    {
     "data": {
      "image/png": "[encoded data removed]",
      "text/plain": [
       "<Figure size 640x480 with 1 Axes>"
      ]
     },
     "metadata": {},
     "output_type": "display_data"
    }
   ],
   "source": [
    "# HDL cholesterol\n",
    "plt.hist(dataset['30760-0.0'], bins = 30)\n",
    "plt.show()"
   ]
  },
  {
   "cell_type": "code",
   "execution_count": 7,
   "id": "d3586f17-1642-43d8-8c00-5534e82fee3e",
   "metadata": {},
   "outputs": [
    {
     "data": {
      "image/png": "[encoded data removed]",
      "text/plain": [
       "<Figure size 640x480 with 1 Axes>"
      ]
     },
     "metadata": {},
     "output_type": "display_data"
    },
    {
     "name": "stdout",
     "output_type": "stream",
     "text": [
      "2009-05-06\n"
     ]
    },
    {
     "data": {
      "text/plain": [
       "0"
      ]
     },
     "execution_count": 7,
     "metadata": {},
     "output_type": "execute_result"
    }
   ],
   "source": [
    "# Date attending asessment centre\n",
    "plt.hist(dataset['53-0.0'], bins = 50)\n",
    "plt.show()\n",
    "print(min(dataset['53-0.0']))\n",
    "dataset['53-0.0'].isna().sum()"
   ]
  },
  {
   "cell_type": "code",
   "execution_count": 95,
   "id": "dabae4f8-534d-4a75-afe9-d740ded136ee",
   "metadata": {},
   "outputs": [
    {
     "data": {
      "text/plain": [
       "2014-06-03    25\n",
       "2014-07-21     3\n",
       "2014-11-18     3\n",
       "2010-12-20     2\n",
       "2013-03-20     2\n",
       "2011-08-08     2\n",
       "2014-06-06     2\n",
       "2011-05-20     2\n",
       "2010-07-07     2\n",
       "2011-04-08     1\n",
       "2011-10-13     1\n",
       "2013-07-30     1\n",
       "2012-10-11     1\n",
       "2011-02-25     1\n",
       "2013-07-11     1\n",
       "2012-01-11     1\n",
       "2009-10-08     1\n",
       "2014-06-18     1\n",
       "2013-03-21     1\n",
       "2014-05-27     1\n",
       "2011-11-25     1\n",
       "2014-05-02     1\n",
       "2013-06-19     1\n",
       "2013-10-21     1\n",
       "2012-02-02     1\n",
       "2014-11-24     1\n",
       "2014-06-04     1\n",
       "2013-10-04     1\n",
       "2014-06-10     1\n",
       "2014-08-06     1\n",
       "2014-07-02     1\n",
       "2010-06-15     1\n",
       "2013-12-09     1\n",
       "2012-09-18     1\n",
       "2013-10-09     1\n",
       "2014-04-03     1\n",
       "2013-10-08     1\n",
       "2012-10-12     1\n",
       "2013-04-22     1\n",
       "2014-02-19     1\n",
       "2013-11-27     1\n",
       "2014-05-03     1\n",
       "2014-02-11     1\n",
       "2009-12-16     1\n",
       "2011-12-13     1\n",
       "2011-12-14     1\n",
       "2011-02-21     1\n",
       "2012-09-03     1\n",
       "2014-02-20     1\n",
       "2012-09-04     1\n",
       "2012-01-10     1\n",
       "2013-07-29     1\n",
       "2014-08-11     1\n",
       "2010-12-24     1\n",
       "2010-09-23     1\n",
       "2014-06-30     1\n",
       "2013-07-24     1\n",
       "2011-09-05     1\n",
       "2014-08-22     1\n",
       "2014-05-07     1\n",
       "Name: 191-0.0, dtype: int64"
      ]
     },
     "execution_count": 95,
     "metadata": {},
     "output_type": "execute_result"
    }
   ],
   "source": [
    "# Date lost to follow up\n",
    "dataset['191-0.0'].value_counts()"
   ]
  },
  {
   "cell_type": "code",
   "execution_count": 96,
   "id": "96d883e6-8f79-4ee2-8bfe-677f0bda6e87",
   "metadata": {},
   "outputs": [
    {
     "data": {
      "image/png": "[encoded data removed]",
      "text/plain": [
       "<Figure size 640x480 with 1 Axes>"
      ]
     },
     "metadata": {},
     "output_type": "display_data"
    }
   ],
   "source": [
    "# Duration of vigorous activity minutes/day\t \n",
    "plt.hist(dataset['914-0.0'], bins = 50)\n",
    "plt.show()"
   ]
  },
  {
   "cell_type": "code",
   "execution_count": 97,
   "id": "facd305b-1ca8-4e95-abad-57ba7eb36f80",
   "metadata": {},
   "outputs": [
    {
     "data": {
      "image/png": "[encoded data removed]",
      "text/plain": [
       "<Figure size 640x480 with 1 Axes>"
      ]
     },
     "metadata": {},
     "output_type": "display_data"
    },
    {
     "data": {
      "text/plain": [
       "5174"
      ]
     },
     "execution_count": 97,
     "metadata": {},
     "output_type": "execute_result"
    }
   ],
   "source": [
    "# Duration of moderate activity minutes / day\n",
    "plt.hist(dataset['894-0.0'], bins = 50)\n",
    "plt.show()\n",
    "dataset['894-0.0'].isna().sum()"
   ]
  },
  {
   "cell_type": "code",
   "execution_count": 98,
   "id": "67f4fbbd-30cb-497d-a069-c89c608a1a18",
   "metadata": {},
   "outputs": [
    {
     "name": "stdout",
     "output_type": "stream",
     "text": [
      " 3.0    1614\n",
      " 4.0    1293\n",
      " 5.0     522\n",
      " 2.0     292\n",
      " 6.0     205\n",
      " 7.0     152\n",
      " 1.0      47\n",
      "-1.0      40\n",
      "-3.0       8\n",
      "Name: 1001-0.0, dtype: int64\n"
     ]
    },
    {
     "data": {
      "text/plain": [
       "32693"
      ]
     },
     "execution_count": 98,
     "metadata": {},
     "output_type": "execute_result"
    }
   ],
   "source": [
    "# Duration of strenuous sports \n",
    "print(dataset['1001-0.0'].value_counts())\n",
    "dataset['1001-0.0'].isna().sum()"
   ]
  },
  {
   "cell_type": "code",
   "execution_count": 99,
   "id": "7d2d3e53-2719-4548-aacb-c243dce72c37",
   "metadata": {},
   "outputs": [
    {
     "name": "stdout",
     "output_type": "stream",
     "text": [
      " 4.0    1593\n",
      " 3.0     947\n",
      " 5.0     663\n",
      " 2.0     603\n",
      " 1.0     220\n",
      " 6.0      93\n",
      "-1.0      48\n",
      "-3.0       6\n",
      "Name: 991-0.0, dtype: int64\n",
      "Missing data: 88.68 \n"
     ]
    }
   ],
   "source": [
    "# Frequency of strenuous sports in last 4 weeks\n",
    "print(dataset['991-0.0'].value_counts())\n",
    "print(\"Missing data: %.2f \" % (dataset['991-0.0'].isna().sum()*100/len(dataset)))"
   ]
  },
  {
   "cell_type": "code",
   "execution_count": 100,
   "id": "a90c7a96-711b-4809-9543-8a7d9fb76c72",
   "metadata": {},
   "outputs": [
    {
     "data": {
      "image/png": "[encoded data removed]",
      "text/plain": [
       "<Figure size 640x480 with 1 Axes>"
      ]
     },
     "metadata": {},
     "output_type": "display_data"
    },
    {
     "name": "stdout",
     "output_type": "stream",
     "text": [
      "Missing data: 0.00 \n"
     ]
    }
   ],
   "source": [
    "# Number of days/week of moderate physical activity 10+ minute\n",
    "plt.hist(dataset['884-0.0'], bins = 10)\n",
    "plt.show()\n",
    "print(\"Missing data: %.2f \" % (dataset['884-0.0'].isna().sum()*100/len(dataset)))"
   ]
  },
  {
   "cell_type": "code",
   "execution_count": 101,
   "id": "40ca99ec-93c9-4040-be25-1f390ce903f0",
   "metadata": {},
   "outputs": [
    {
     "data": {
      "image/png": "[encoded data removed]",
      "text/plain": [
       "<Figure size 640x480 with 1 Axes>"
      ]
     },
     "metadata": {},
     "output_type": "display_data"
    },
    {
     "name": "stdout",
     "output_type": "stream",
     "text": [
      "Missing data: 0.00 \n"
     ]
    }
   ],
   "source": [
    "# Number of days/week of vigorous physical activity 10+ minute\n",
    "plt.hist(dataset['904-0.0'], bins = 10)\n",
    "plt.show()\n",
    "print(\"Missing data: %.2f \" % (dataset['904-0.0'].isna().sum()*100/len(dataset)))"
   ]
  },
  {
   "cell_type": "code",
   "execution_count": 102,
   "id": "a5ed21ea-861c-43b9-b0f0-a22b18e8bff7",
   "metadata": {},
   "outputs": [
    {
     "name": "stdout",
     "output_type": "stream",
     "text": [
      "2009-07-01    97\n",
      "2006-07-01    89\n",
      "2000-07-01    86\n",
      "2008-07-01    84\n",
      "2004-07-01    82\n",
      "              ..\n",
      "2019-07-09     1\n",
      "2017-02-20     1\n",
      "2010-10-17     1\n",
      "2017-07-11     1\n",
      "2009-10-27     1\n",
      "Name: 131286-0.0, Length: 3725, dtype: int64\n",
      "Missing data: 62.63 \n"
     ]
    }
   ],
   "source": [
    "# Date I10 first reported (essential (primary) hypertension)\n",
    "print(dataset['131286-0.0'].value_counts())\n",
    "print(\"Missing data: %.2f \" % (dataset['131286-0.0'].isna().sum()*100/len(dataset)))"
   ]
  },
  {
   "cell_type": "code",
   "execution_count": 103,
   "id": "e7e7a4f6-3245-4150-bfa3-2c51403000e4",
   "metadata": {},
   "outputs": [
    {
     "name": "stdout",
     "output_type": "stream",
     "text": [
      "2010-02-02    2\n",
      "2011-09-01    1\n",
      "2009-03-05    1\n",
      "2012-03-26    1\n",
      "2004-09-23    1\n",
      "             ..\n",
      "2008-10-21    1\n",
      "2010-02-08    1\n",
      "2006-10-06    1\n",
      "2011-12-16    1\n",
      "2010-03-22    1\n",
      "Name: 131290-0.0, Length: 134, dtype: int64\n",
      "Missing data: 99.63 \n"
     ]
    }
   ],
   "source": [
    "# Date I12 first reported (hypertensive renal disease)\n",
    "print(dataset['131290-0.0'].value_counts())\n",
    "print(\"Missing data: %.2f \" % (dataset['131290-0.0'].isna().sum()*100/len(dataset)))"
   ]
  },
  {
   "cell_type": "code",
   "execution_count": 104,
   "id": "5fb20dff-6b47-498f-8007-dcae90db8792",
   "metadata": {},
   "outputs": [
    {
     "name": "stdout",
     "output_type": "stream",
     "text": [
      "2022-06-29    1\n",
      "2019-04-09    1\n",
      "2022-01-11    1\n",
      "2017-12-02    1\n",
      "2000-12-29    1\n",
      "2020-12-09    1\n",
      "2013-11-12    1\n",
      "2019-02-21    1\n",
      "2021-08-11    1\n",
      "2014-09-04    1\n",
      "2021-02-03    1\n",
      "2017-08-13    1\n",
      "Name: 131292-0.0, dtype: int64\n",
      "Missing data: 99.97 \n"
     ]
    }
   ],
   "source": [
    "# Date I13 first reported (hypertensive heart and renal disease)\n",
    "print(dataset['131292-0.0'].value_counts())\n",
    "print(\"Missing data: %.2f \" % (dataset['131292-0.0'].isna().sum()*100/len(dataset)))"
   ]
  },
  {
   "cell_type": "code",
   "execution_count": 105,
   "id": "99a46df3",
   "metadata": {},
   "outputs": [],
   "source": [
    "# the icd10 codes for cause of death \n",
    "Fatal_CVD_ICD10 = ['I10', 'I11', 'I12', 'I13', 'I14', 'I15', 'I16',               # Hypertensive disease\n",
    "                   'I20', 'I21', 'I22', 'I23', 'I24', 'I25',                      # Ischemic heart disease\n",
    "                   'I46', 'I47', 'I48', 'I49', 'I50', 'I51', 'I52', 'I60',        # Arrhythmias, heart failure\n",
    "                   'I61', 'I62', 'I63', 'I64', 'I65', 'I66', 'I67', 'I68', 'I69', # Cerebrovascular disease\n",
    "                   'I70', 'I71', 'I72', 'I73',                                    # Atherosclerosis/AAA \n",
    "                   'R960', 'R961']                                                # Sudden death and death within 24h of symptom onset\n",
    "\n",
    "Fatal_CVD_ICD10_excl = ['I514', 'I60', 'I62', 'I671', 'I682', 'I675']\n",
    "\n",
    "#fieldids for later use\n",
    "predictors_field_ids_non_fatal = [\"131298\", # Date I21 first reported (acute myocardial infarction)\n",
    "                                  \"131300\", # Date I22 first reported (subsequent myocardial infarction)\n",
    "                                  \"131302\", # Date I23 first reported (certain current complications following acute myocardial infarction)\n",
    "                                  \"131362\", # Date I61 first reported (intracerebral haemorrhage)\n",
    "                                  \"131366\", # Date I63 first reported (cerebral infarction)\n",
    "                                  \"131368\", # Date I64 first reported (stroke, not specified as haemorrhage or infarction)\n",
    "                                  \"131370\", # Date I65 first reported (occlusion and stenosis of precerebral arteries, not resulting in cerebral infarction)\n",
    "                                  \"131372\", # Date I66 first reported (occlusion and stenosis of cerebral arteries, not resulting in cerebral infarction)\n",
    "                                  \"131378\"] # Date I69 first reported (sequelae of cerebrovascular disease)\n",
    "\n",
    "predictors_field_ids_fatal = [\"131286\", # Date I10 first reported (essential (primary) hypertension)\n",
    "                              \"131288\", # Date I11 first reported (hypertensive heart disease)\n",
    "                              \"131290\", # Date I12 first reported (hypertensive renal disease)\n",
    "                              \"131292\", # Date I13 first reported (hypertensive heart and renal disease)\n",
    "                              \"131294\", # Date I15 first reported (secondary hypertension)\n",
    "                              \"131296\", # Date I20 first reported (angina pectoris)\n",
    "                              \"131304\", # Date I24 first reported (other acute ischaemic heart diseases)\n",
    "                              \"131306\", # Date I25 first reported (chronic ischaemic heart disease)\n",
    "                              \"131346\", # Date I46 first reported (cardiac arrest)\n",
    "                              \"131348\", # Date I47 first reported (paroxysmal tachycardia)\n",
    "                              \"131350\", # Date I48 first reported (atrial fibrillation and flutter)\n",
    "                              \"131352\", # Date I49 first reported (other cardiac arrhythmias)\n",
    "                              \"131354\", # Date I50 first reported (heart failure)\n",
    "                              \"131356\", # Date I51 first reported (complications and ill-defined descriptions of heart disease)\n",
    "                              \"131358\", # Date I52 first reported (other heart disorders in diseases classified elsewhere)\n",
    "                              \"131380\", # Date I70 first reported (atherosclerosis)\n",
    "                              \"131382\", # Date I71 first reported (aortic aneurysm and dissection)\n",
    "                              \"131384\", # Date I72 first reported (other aneurysm)\n",
    "                              \"131386\"] # Date I73 first reported (other peripheral vascular diseases)\n",
    "\n",
    "#fieldids to check for later events\n",
    "all_cvs_fields = [\"131286\", # Date I10 first reported (essential (primary) hypertension)\n",
    "                  \"131288\", # Date I11 first reported (hypertensive heart disease)\n",
    "                  \"131290\", # Date I12 first reported (hypertensive renal disease)\n",
    "                  \"131292\", # Date I13 first reported (hypertensive heart and renal disease)\n",
    "                  \"131294\", # Date I15 first reported (secondary hypertension)\n",
    "                  \"131296\", # Date I20 first reported (angina pectoris)\n",
    "                  \"131304\", # Date I24 first reported (other acute ischaemic heart diseases)\n",
    "                  \"131306\", # Date I25 first reported (chronic ischaemic heart disease)\n",
    "                  \"131346\", # Date I46 first reported (cardiac arrest)\n",
    "                  \"131348\", # Date I47 first reported (paroxysmal tachycardia)\n",
    "                  \"131350\", # Date I48 first reported (atrial fibrillation and flutter)\n",
    "                  \"131352\", # Date I49 first reported (other cardiac arrhythmias)\n",
    "                  \"131354\", # Date I50 first reported (heart failure)\n",
    "                  \"131356\", # Date I51 first reported (complications and ill-defined descriptions of heart disease)\n",
    "                  \"131358\", # Date I52 first reported (other heart disorders in diseases classified elsewhere)\n",
    "                  \"131380\", # Date I70 first reported (atherosclerosis)\n",
    "                  \"131382\", # Date I71 first reported (aortic aneurysm and dissection)\n",
    "                  \"131384\", # Date I72 first reported (other aneurysm)\n",
    "                  \"131386\", # Date I73 first reported (other peripheral vascular diseases)\n",
    "                  \"131298\", # Date I21 first reported (acute myocardial infarction)\n",
    "                  \"131300\", # Date I22 first reported (subsequent myocardial infarction)\n",
    "                  \"131302\", # Date I23 first reported (certain current complications following acute myocardial infarction)\n",
    "                  \"131362\", # Date I61 first reported (intracerebral haemorrhage)\n",
    "                  \"131366\", # Date I63 first reported (cerebral infarction)\n",
    "                  \"131368\", # Date I64 first reported (stroke, not specified as haemorrhage or infarction)\n",
    "                  \"131370\", # Date I65 first reported (occlusion and stenosis of precerebral arteries, not resulting in cerebral infarction)\n",
    "                  \"131372\", # Date I66 first reported (occlusion and stenosis of cerebral arteries, not resulting in cerebral infarction)\n",
    "                  \"131378\"] # Date I69 first reported (sequelae of cerebrovascular disease)\n",
    "all_fields = [\"31\",    # Sex\n",
    "              \"53\",    # Date of attending assessment centre\n",
    "              \"21003\", # Age when attended assessment centre\n",
    "              \"4080\",  # Systolic blood pressure, automated reading\n",
    "              \"20116\", # Smoking status\n",
    "              \"6177\",  # Medication for cholesterol, blood pressure or diabetes\n",
    "              \"6153\",  # Medication for cholesterol, blood pressure, diabetes, or take exogenous hormones\n",
    "              \"884\",   # Number of days/week of moderate physical activity 10+ minutes\n",
    "              \"894\",   # Duration of moderate activity (minutes/day)\n",
    "              \"904\",   # Number of days/week of vigorous physical activity 10+ minutes\n",
    "              \"914\",   # Duration of vigorous activity (minutes / day)\n",
    "              \"26410\", # Index of Multiple Deprivation (England)\n",
    "              \"26427\", # Index of Multiple Deprivation (Scotland)\n",
    "              \"26426\", # Index of Multiple Deprivation (Wales)\n",
    "              \"26030\", # Alcohol (g, past 24h)\n",
    "              \"26090\", # Berries (past 24h)\n",
    "              \"26091\", # Citrus\n",
    "              \"26093\", # Other fruit\n",
    "              \"26065\", # Allium vegetables\n",
    "              \"26098\", # Green leafy/cabbages\n",
    "              \"26146\", # Other vegetables, including mushrooms, fruiting and mixed vegetables\n",
    "              \"26115\", # Peas and sweetcorn\n",
    "              \"26143\", # Tomatoes\n",
    "              \"26144\", # Vegetable dips\n",
    "              \"26147\", # Vegetable side dishes\n",
    "              \"26123\", # Raw salad\n",
    "              \"26125\", # Root vegetables\n",
    "              \"26076\", # Bran cereal\n",
    "              \"26071\", # Mixed bread (50/50), brown and seeded\n",
    "              \"26077\", # Oat cereal (non sugar)\n",
    "              \"26078\", # Oat cereal (sugar)\n",
    "              \"26074\", # Wholemeal bread\n",
    "              \"26114\", # Wholemeal pasta, brown rice and other wholegrains\n",
    "              \"26105\", # Muesli\n",
    "              \"26113\", # White pasta and rice\n",
    "              \"26073\", # White bread\n",
    "              \"26068\", # Biscuits\n",
    "              \"26075\", # Biscuit cereal\n",
    "              \"26101\", # Legumes and pulses\n",
    "              \"26107\", # Unsalted nuts and seeds\n",
    "              \"26099\", # High fat cheese\n",
    "              \"26103\", # Medium and low fat cheese\n",
    "              \"26154\", # Cream\n",
    "              \"26096\", # Full fat yogurt\n",
    "              \"26102\", # Low fat yogurt\n",
    "              \"26087\", # Milk-based and powdered drinks\n",
    "              \"26084\", # Milk-dairy desserts\n",
    "              \"26133\", # Skimmed milk and cholesterol-lowering milk\n",
    "              \"26150\", # Whole milk\n",
    "              \"26149\", # White fish and tinned tuna\n",
    "              \"26132\", # Shellfish\n",
    "              \"26109\", # Oily fish\n",
    "              \"26141\", # Tea\n",
    "              \"20090\", # Type of fat/oil used in cooking\n",
    "              \"100240\",# Coffee consumed\n",
    "              \"26117\", # Pork\n",
    "              \"26104\", # Other meat, offal\n",
    "              \"26100\", # Lamb\n",
    "              \"26066\", # Beef\n",
    "              \"26122\", # Processed meat\n",
    "              \"26127\", # Sugar-sweetened beverages and other sugary drinks\n",
    "              \"26095\", # Fruit juice\n",
    "              \"26052\", # Sodium\n",
    "              \"23400\", # Total Cholesterol\n",
    "              \"23406\", # HDL Cholesterol\n",
    "              \"40001\", # Underlying (primary) cause of death: ICD10\n",
    "              \"131286\", # Date I10 first reported (essential (primary) hypertension)\n",
    "              \"131288\", # Date I11 first reported (hypertensive heart disease)\n",
    "              \"131290\", # Date I12 first reported (hypertensive renal disease)\n",
    "              \"131292\", # Date I13 first reported (hypertensive heart and renal disease)\n",
    "              \"131294\", # Date I15 first reported (secondary hypertension)\n",
    "              \"131296\", # Date I20 first reported (angina pectoris)\n",
    "              \"131304\", # Date I24 first reported (other acute ischaemic heart diseases)\n",
    "              \"131306\", # Date I25 first reported (chronic ischaemic heart disease)\n",
    "              \"131346\", # Date I46 first reported (cardiac arrest)\n",
    "              \"131348\", # Date I47 first reported (paroxysmal tachycardia)\n",
    "              \"131350\", # Date I48 first reported (atrial fibrillation and flutter)\n",
    "              \"131352\", # Date I49 first reported (other cardiac arrhythmias)\n",
    "              \"131354\", # Date I50 first reported (heart failure)\n",
    "              \"131356\", # Date I51 first reported (complications and ill-defined descriptions of heart disease)\n",
    "              \"131358\", # Date I52 first reported (other heart disorders in diseases classified elsewhere)\n",
    "              \"131380\", # Date I70 first reported (atherosclerosis)\n",
    "              \"131382\", # Date I71 first reported (aortic aneurysm and dissection)\n",
    "              \"131384\", # Date I72 first reported (other aneurysm)\n",
    "              \"131386\", # Date I73 first reported (other peripheral vascular diseases)\n",
    "              \"131298\", # Date I21 first reported (acute myocardial infarction)\n",
    "              \"131300\", # Date I22 first reported (subsequent myocardial infarction)\n",
    "              \"131302\", # Date I23 first reported (certain current complications following acute myocardial infarction)\n",
    "              \"131362\", # Date I61 first reported (intracerebral haemorrhage)\n",
    "              \"131366\", # Date I63 first reported (cerebral infarction)\n",
    "              \"131368\", # Date I64 first reported (stroke, not specified as haemorrhage or infarction)\n",
    "              \"131370\", # Date I65 first reported (occlusion and stenosis of precerebral arteries, not resulting in cerebral infarction)\n",
    "              \"131372\", # Date I66 first reported (occlusion and stenosis of cerebral arteries, not resulting in cerebral infarction)\n",
    "              \"131378\", # Date I69 first reported (sequelae of cerebrovascular disease)\n",
    "              \"40000\"] # Date of death\n"
   ]
  }
 ],
 "metadata": {
  "kernelspec": {
   "display_name": "Python 3 (ipykernel)",
   "language": "python",
   "name": "python3"
  },
  "language_info": {
   "codemirror_mode": {
    "name": "ipython",
    "version": 3
   },
   "file_extension": ".py",
   "mimetype": "text/x-python",
   "name": "python",
   "nbconvert_exporter": "python",
   "pygments_lexer": "ipython3",
   "version": "3.10.5"
  }
 },
 "nbformat": 4,
 "nbformat_minor": 5
}
