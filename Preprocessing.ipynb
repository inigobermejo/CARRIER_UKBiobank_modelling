{
 "cells": [
  {
   "cell_type": "code",
   "execution_count": 1,
   "metadata": {},
   "outputs": [],
   "source": [
    "import pandas as pd\n",
    "import math\n",
    "from datetime import datetime, timedelta\n",
    "from scipy.stats import percentileofscore\n",
    "from sklearn.preprocessing import MinMaxScaler\n",
    "import numpy as np\n",
    "import matplotlib.pyplot as plt\n",
    "import math\n",
    "from functools import reduce\n",
    "from typing import Sequence\n",
    "from collections import Counter"
   ]
  },
  {
   "cell_type": "code",
   "execution_count": 9,
   "metadata": {},
   "outputs": [
    {
     "name": "stderr",
     "output_type": "stream",
     "text": [
      "C:\\Users\\i.bermejo\\AppData\\Local\\Temp\\ipykernel_34880\\981591657.py:7: DtypeWarning: Columns (114) have mixed types. Specify dtype option on import or set low_memory=False.\n",
      "  dataset = pd.read_csv(file)\n"
     ]
    }
   ],
   "source": [
    "#Rename the file to be correct and make sure the correct instance is used.\n",
    "instance = 0\n",
    "folder = 'C:\\\\Users\\\\i.bermejo\\\\Documents\\\\Data\\\\CARRIER\\\\UKBB\\\\'\n",
    "file = folder + 'data_participant.csv'\n",
    "file2 = folder + \"data_death_cause.csv\" #the causes of death are in a different dataset.\n",
    "percentiles = pd.read_csv(\"deprivation percentiles.csv\")\n",
    "dataset = pd.read_csv(file)\n",
    "death_data = pd.read_csv(file2)\n",
    "death_data = death_data.groupby(\"eid\").agg(\"|\".join) #collapse the causes of death data to have the same length as the dataset\n",
    "data = pd.merge(dataset.reset_index(), death_data.reset_index(), on = \"eid\", how = \"left\") #combine the datasets."
   ]
  },
  {
   "cell_type": "code",
   "execution_count": 10,
   "metadata": {},
   "outputs": [],
   "source": [
    "df_statin_initiation = pd.read_csv(folder + 'statin_initiation.csv')\n",
    "df_statin_initiation = df_statin_initiation.filter(['eid','issue_date'], axis=1)\n",
    "df_statin_initiation.rename(columns={\"issue_date\": \"statin_initiation_date\"}, inplace=True)\n",
    "data = pd.merge(data, df_statin_initiation, on = \"eid\", how = \"left\") #combine the datasets."
   ]
  },
  {
   "cell_type": "code",
   "execution_count": 11,
   "metadata": {},
   "outputs": [],
   "source": [
    "df_antihypertensive_initiation = pd.read_csv(folder + 'antihypertensive_initiation.csv')\n",
    "df_antihypertensive_initiation = df_antihypertensive_initiation.filter(['eid','issue_date'], axis=1)\n",
    "df_antihypertensive_initiation.rename(columns={\"issue_date\": \"antihypertensive_initiation_date\"}, inplace=True)\n",
    "data = pd.merge(data, df_antihypertensive_initiation, on = \"eid\", how = \"left\") #combine the datasets."
   ]
  },
  {
   "cell_type": "code",
   "execution_count": 12,
   "metadata": {},
   "outputs": [
    {
     "data": {
      "text/plain": [
       "(36866, 122)"
      ]
     },
     "execution_count": 12,
     "metadata": {},
     "output_type": "execute_result"
    }
   ],
   "source": [
    "data.shape"
   ]
  },
  {
   "cell_type": "code",
   "execution_count": 20,
   "metadata": {},
   "outputs": [],
   "source": [
    "# the icd10 codes for CVD death\n",
    "Fatal_CVD_ICD10 = ['I10', 'I11', 'I12', 'I13', 'I14', 'I15', 'I16',               # Hypertensive disease\n",
    "                   'I20', 'I21', 'I22', 'I23', 'I24', 'I25',                      # Ischemic heart disease\n",
    "                   'I46', 'I47', 'I48', 'I49', 'I50', 'I51', 'I52', 'I60',        # Arrhythmias, heart failure\n",
    "                   'I61', 'I62', 'I63', 'I64', 'I65', 'I66', 'I67', 'I68', 'I69', # Cerebrovascular disease\n",
    "                   'I70', 'I71', 'I72', 'I73',                                    # Atherosclerosis/AAA \n",
    "                   'R960', 'R961']                                                # Sudden death and death within 24h of symptom onset\n",
    "# the icd10 codes excluded from the above for CVD death\n",
    "Fatal_CVD_ICD10_excl = ['I514', 'I60', 'I62', 'I671', 'I682', 'I675']\n",
    "\n",
    "\n",
    "#fieldids for later use\n",
    "predictors_field_ids_non_fatal = [\"131298\", # Date I21 first reported (acute myocardial infarction)\n",
    "                                  \"131300\", # Date I22 first reported (subsequent myocardial infarction)\n",
    "                                  \"131302\", # Date I23 first reported (certain current complications following acute myocardial infarction)\n",
    "                                  \"131362\", # Date I61 first reported (intracerebral haemorrhage)\n",
    "                                  \"131366\", # Date I63 first reported (cerebral infarction)\n",
    "                                  \"131368\", # Date I64 first reported (stroke, not specified as haemorrhage or infarction)\n",
    "                                  \"131370\", # Date I65 first reported (occlusion and stenosis of precerebral arteries, not resulting in cerebral infarction)\n",
    "                                  \"131372\", # Date I66 first reported (occlusion and stenosis of cerebral arteries, not resulting in cerebral infarction)\n",
    "                                  \"131374\", # Date I67 first reported (other cerebrovascular diseases)\n",
    "                                  \"131376\", # Date I68 first reported (cerebrovascular disorders in diseases classified elsewhere)\n",
    "                                  \"131378\"] # Date I69 first reported (sequelae of cerebrovascular disease)\n",
    "\n",
    "predictors_field_ids_fatal = [\"131286\", # Date I10 first reported (essential (primary) hypertension)\n",
    "                              \"131288\", # Date I11 first reported (hypertensive heart disease)\n",
    "                              \"131290\", # Date I12 first reported (hypertensive renal disease)\n",
    "                              \"131292\", # Date I13 first reported (hypertensive heart and renal disease)\n",
    "                              \"131294\", # Date I15 first reported (secondary hypertension)\n",
    "                              \"131296\", # Date I20 first reported (angina pectoris)\n",
    "                              \"131304\", # Date I24 first reported (other acute ischaemic heart diseases)\n",
    "                              \"131306\", # Date I25 first reported (chronic ischaemic heart disease)\n",
    "                              \"131346\", # Date I46 first reported (cardiac arrest)\n",
    "                              \"131348\", # Date I47 first reported (paroxysmal tachycardia)\n",
    "                              \"131350\", # Date I48 first reported (atrial fibrillation and flutter)\n",
    "                              \"131352\", # Date I49 first reported (other cardiac arrhythmias)\n",
    "                              \"131354\", # Date I50 first reported (heart failure)\n",
    "                              \"131356\", # Date I51 first reported (complications and ill-defined descriptions of heart disease)\n",
    "                              \"131358\", # Date I52 first reported (other heart disorders in diseases classified elsewhere)\n",
    "                              \"131380\", # Date I70 first reported (atherosclerosis)\n",
    "                              \"131382\", # Date I71 first reported (aortic aneurysm and dissection)\n",
    "                              \"131384\", # Date I72 first reported (other aneurysm)\n",
    "                              \"131386\"] # Date I73 first reported (other peripheral vascular diseases)\n",
    "\n",
    "\n",
    "misc_fields = [\"31\",    # Sex\n",
    "              \"53\",    # Date of attending assessment centre\n",
    "              \"21003\", # Age when attended assessment centre\n",
    "              \"4080\",  # Systolic blood pressure, automated reading\n",
    "              \"20116\", # Smoking status\n",
    "              \"6177\",  # Medication for cholesterol, blood pressure or diabetes\n",
    "              \"6153\",  # Medication for cholesterol, blood pressure, diabetes, or take exogenous hormones\n",
    "              \"40000\"] # Date of death\n",
    "\n",
    "exercise_fields = [\"884\",   # Number of days/week of moderate physical activity 10+ minutes\n",
    "                   \"894\",   # Duration of moderate activity (minutes/day)\n",
    "                   \"904\",   # Number of days/week of vigorous physical activity 10+ minutes\n",
    "                   \"914\"]   # Duration of vigorous activity (minutes / day)\n",
    "\n",
    "deprivation_fields = [\"26410\", # Index of Multiple Deprivation (England)\n",
    "                      \"26427\", # Index of Multiple Deprivation (Scotland)\n",
    "                      \"26426\"] # Index of Multiple Deprivation (Wales)\n",
    "              \n",
    "diet_fields = [\"26030\", # Alcohol (g, past 24h)\n",
    "              \"26090\", # Berries (past 24h)\n",
    "              \"26091\", # Citrus\n",
    "              \"26093\", # Other fruit\n",
    "              \"26065\", # Allium vegetables\n",
    "              \"26098\", # Green leafy/cabbages\n",
    "              \"26146\", # Other vegetables, including mushrooms, fruiting and mixed vegetables\n",
    "              \"26115\", # Peas and sweetcorn\n",
    "              \"26143\", # Tomatoes\n",
    "              \"26144\", # Vegetable dips\n",
    "              \"26147\", # Vegetable side dishes\n",
    "              \"26123\", # Raw salad\n",
    "              \"26125\", # Root vegetables\n",
    "              \"26076\", # Bran cereal\n",
    "              \"26071\", # Mixed bread (50/50), brown and seeded\n",
    "              \"26077\", # Oat cereal (non sugar)\n",
    "              \"26078\", # Oat cereal (sugar)\n",
    "              \"26074\", # Wholemeal bread\n",
    "              \"26114\", # Wholemeal pasta, brown rice and other wholegrains\n",
    "              \"26105\", # Muesli\n",
    "              \"26113\", # White pasta and rice\n",
    "              \"26073\", # White bread\n",
    "              \"26068\", # Biscuits\n",
    "              \"26075\", # Biscuit cereal\n",
    "              \"26101\", # Legumes and pulses\n",
    "              \"26107\", # Unsalted nuts and seeds\n",
    "              \"26099\", # High fat cheese\n",
    "              \"26103\", # Medium and low fat cheese\n",
    "              \"26154\", # Cream\n",
    "              \"26096\", # Full fat yogurt\n",
    "              \"26102\", # Low fat yogurt\n",
    "              \"26087\", # Milk-based and powdered drinks\n",
    "              \"26084\", # Milk-dairy desserts\n",
    "              \"26133\", # Skimmed milk and cholesterol-lowering milk\n",
    "              \"26150\", # Whole milk\n",
    "              \"26149\", # White fish and tinned tuna\n",
    "              \"26132\", # Shellfish\n",
    "              \"26109\", # Oily fish\n",
    "              \"26141\", # Tea\n",
    "              \"20090\", # Type of fat/oil used in cooking\n",
    "              \"100240\",# Coffee consumed\n",
    "              \"26117\", # Pork\n",
    "              \"26104\", # Other meat, offal\n",
    "              \"26100\", # Lamb\n",
    "              \"26066\", # Beef\n",
    "              \"26122\", # Processed meat\n",
    "              \"26127\", # Sugar-sweetened beverages and other sugary drinks\n",
    "              \"26095\", # Fruit juice\n",
    "              \"26052\", # Sodium\n",
    "              \"23400\", # Total Cholesterol\n",
    "              \"23406\"] # HDL Cholesterol\n",
    "             \n"
   ]
  },
  {
   "cell_type": "code",
   "execution_count": 21,
   "metadata": {},
   "outputs": [],
   "source": [
    "#calculates the rank of the MDI value for each participant using the values collected in \"deprivation percentiles.csv\"\n",
    "def calculate_percentile_rank(value: int, data: pd.DataFrame()) -> int:\n",
    "    if value == value:\n",
    "        return (percentileofscore(data, value)+1)\n",
    "    \n",
    "#The following functions are called in the to_DHD15 function to calculate the correct measures\n",
    "def adequacy_conversion(intake: int, treshold: int) -> float:\n",
    "    if intake <= 0:\n",
    "        return 0\n",
    "    if intake > treshold:\n",
    "        return 10\n",
    "    else:\n",
    "        conversion = (intake/treshold)*10\n",
    "        return conversion\n",
    "\n",
    "def moderation_conversion(intake: int, tresholds: Sequence[int]) -> float:\n",
    "    if intake > tresholds[0]:\n",
    "        return 0\n",
    "    if intake <= tresholds[1]:\n",
    "        return 10\n",
    "    if intake > tresholds[1] and intake <= tresholds[0]: \n",
    "        output = 10-(10*((intake-tresholds[1])/(tresholds[0]-tresholds[1])))\n",
    "        return output\n",
    "\n",
    "def optimum_conversion(intake: int, tresholds: Sequence[int]) -> float:\n",
    "    if intake == 0 or intake > tresholds[0]:\n",
    "        return 0\n",
    "    if intake >= tresholds[1] and intake <= tresholds[2]:\n",
    "        return 10\n",
    "    if intake < tresholds[1] and intake > 0:\n",
    "        output = (intake/tresholds[1])*10\n",
    "        return output\n",
    "    if intake > tresholds[2]:\n",
    "        output = 10-(((intake-tresholds[2])/(tresholds[0]-tresholds[2]))*10)\n",
    "        return output\n",
    "\n",
    "def ratio_conversion(intake: int, tresholds: Sequence[int]) -> float:\n",
    "    if intake < tresholds[0]:\n",
    "        return 0\n",
    "    if intake >= tresholds[1]:\n",
    "        return 10\n",
    "    if intake >= tresholds[0] and intake < tresholds[1]:\n",
    "        output = 10-(10*((intake-tresholds[1])/(tresholds[0]-tresholds[1])))\n",
    "        return output\n",
    "# function that applies the conversion over the entire column based on the thresholds that are defined\n",
    "def to_DHD15(df: pd.DataFrame(), column: str, *tresholds: int) -> Sequence[int]:\n",
    "    temp = pd.DataFrame()\n",
    "    if len(tresholds) == 1:\n",
    "        temp = df[column].apply(lambda x: adequacy_conversion(x, tresholds[0]))\n",
    "    if len(tresholds) == 2 and tresholds[0]>tresholds[1]:\n",
    "        temp = df[column].apply(lambda x: moderation_conversion(x, tresholds))\n",
    "    if len(tresholds) == 3:\n",
    "        temp =df[column].apply(lambda x: optimum_conversion(x, tresholds))\n",
    "    if len(tresholds) == 2 and tresholds[0]<tresholds[1]:\n",
    "        temp = df[column].apply(lambda x: ratio_conversion(x, tresholds))\n",
    "    return temp\n",
    "\n",
    "\n",
    "def getfats(row: pd.DataFrame(), fatlist: Sequence[str]) -> int:\n",
    "    out = 0\n",
    "    values = Counter(row)\n",
    "    for fat in fatlist:\n",
    "        try:\n",
    "            out += values[fat]\n",
    "        except:\n",
    "            out = out\n",
    "    return out\n",
    "\n",
    "def calc_deprivation(df: pd.DataFrame(), percentiles: pd.DataFrame() = percentiles) -> pd.DataFrame():\n",
    "    tempdf = pd.DataFrame()\n",
    "    tempdf[\"mdi eng %\"] = df[\"26410-0.0\"].apply(calculate_percentile_rank, args=(percentiles['english_percentiles'],))\n",
    "    tempdf[\"mdi scott %\"] = df[\"26427-0.0\"].apply(calculate_percentile_rank, args=(percentiles['scottish_percentiles'],))\n",
    "    tempdf[\"mdi wsh %\"] = df[\"26426-0.0\"].apply(calculate_percentile_rank, args=(percentiles['welsh_percentiles'],))\n",
    "    df[\"rank\"] = tempdf[\"mdi eng %\"].fillna(0) + tempdf[\"mdi scott %\"].fillna(0) + tempdf[\"mdi wsh %\"].fillna(0)\n",
    "    df.loc[:, \"rank\"] = df[\"rank\"].apply(lambda x: np.nan if x == 0 else x)\n",
    "    return df[[\"eid\", \"rank\"]]\n",
    "\n",
    "def calculate_activity(row: pd.DataFrame(), cols: Sequence[str], instance: str) -> int:\n",
    "    if row[cols[0]+instance] > 0 and row[cols[1]+instance] > 0:\n",
    "        return row[cols[0]+instance] * row[cols[1]+instance]\n",
    "    else:\n",
    "        return 0\n",
    "\n",
    "def getmedication(meds: Sequence[str], value: int) -> int:\n",
    "    for med in meds:\n",
    "        if int(med) == value:\n",
    "            return 1\n",
    "    else:\n",
    "        return 0"
   ]
  },
  {
   "cell_type": "code",
   "execution_count": 27,
   "metadata": {},
   "outputs": [],
   "source": [
    "#Function that processes all general data from the UKBiobank\n",
    "def process_df(df: pd.DataFrame(), inst: int) -> pd.DataFrame():\n",
    "    inst = str(inst)\n",
    "    instance = \"-\"+inst+\".0\"\n",
    "    df = df.dropna(subset = [\"4080\"+instance, \"4080\"+instance])\n",
    "    generaldf = pd.DataFrame()\n",
    "    generaldf[\"eid\"] = df[\"eid\"]\n",
    "    generaldf[\"sex\"] = df[\"31-0.0\"]\n",
    "    print(\"sex done\")\n",
    "    generaldf[\"age\"] = df[\"21003\"+instance]\n",
    "    print(\"age done\")\n",
    "    generaldf[\"sbp\"] = df[[\"4080\"+instance, \"4080-\"+inst+\".1\"]].sum(axis=1)/df[[\"4080\"+instance, \"4080-\"+inst+\".1\"]].count(axis = 1)\n",
    "    print(\"sbp done\")\n",
    "    # Smoking status\n",
    "    # -3 Prefer not to answer; 0\tNever; 1\tPrevious; 2\tCurrent\n",
    "    smoking= df[\"20116\"+instance]\n",
    "    generaldf = generaldf.assign(ex_smokers=[1 if x == 1 else 0 if x == 0 or x == -3 or x == 2 else x for x in smoking])\n",
    "    generaldf = generaldf.assign(current_smokers=[1 if x == 2 else 0 if x == 0 or x == -3 or x == 1 else x  for x in smoking])\n",
    "    print(\"smoking done\")\n",
    "    # Diabetes diagnosed by doctor\n",
    "    generaldf[\"diabetes\"] = df[\"2443\"+instance]\n",
    "    # Medication for cholesterol, blood pressure or diabetes (Males only)\n",
    "    # 1\tCholesterol lowering medication; 2\tBlood pressure medication; 3 Insulin; -7 None of the above;-1 Do not know;-3 Prefer not to answer\n",
    "    generaldf[\"medication M\"] = df[\"6177\"+instance].fillna(0)\n",
    "    # Medication for cholesterol, blood pressure, diabetes, or take exogenous hormones (Females only)\n",
    "    # 1\tCholesterol lowering medication; 2\tBlood pressure medication; 3 Insulin;4 Hormone replacement therapy; 5 Oral contraceptive pill or minipill\n",
    "    # -7 None of the above;-1 Do not know;-3 Prefer not to answer\n",
    "    generaldf[\"medication F\"] = df[\"6153\"+instance].fillna(0)\n",
    "    generaldf[\"medication M\"] = generaldf[\"medication M\"].apply(lambda x: str(x).split(\"|\"))\n",
    "    generaldf[\"medication F\"] = generaldf[\"medication F\"].apply(lambda x: str(x).split(\"|\"))\n",
    "    generaldf[\"medications\"] = generaldf[[\"medication M\", \"medication F\"]].sum(axis = 1)\n",
    "    generaldf[\"cholesterol lowering medication\"] = generaldf[\"medications\"].apply(lambda row: getmedication(row, 1))\n",
    "    generaldf[\"bp medication\"] = generaldf[\"medications\"].apply(lambda row: getmedication(row, 2))\n",
    "    generaldf[\"insulin\"] = generaldf[\"medications\"].apply(lambda row: getmedication(row, 3))\n",
    "    generaldf[\"hormone therapy\"] = generaldf[\"medications\"].apply(lambda row: getmedication(row, 4))\n",
    "    generaldf[\"contraceptive\"] = generaldf[\"medications\"].apply(lambda row: getmedication(row, 5))\n",
    "    print(\"medications done\")\n",
    "    generaldf[\"moderate activity\"] = df.apply(lambda row: calculate_activity(row, [\"884\", \"894\"], instance), axis=1)\n",
    "    generaldf[\"vigorous activity\"] = df.apply(lambda row: calculate_activity(row, [\"904\", \"914\"], instance), axis=1)\n",
    "    generaldf[\"moderate activity\"] = generaldf[\"moderate activity\"].apply(lambda x: np.nan if isinstance(x, str) or x < 0 else x)\n",
    "    generaldf[\"vigorous activity\"] = generaldf[\"vigorous activity\"].apply(lambda x: np.nan if isinstance(x, str) or x < 0 else x)\n",
    "    generaldf[\"moderate activity\"] /= 60\n",
    "    generaldf[\"vigorous activity\"] /= 60\n",
    "    generaldf[\"champscore\"] = generaldf[[\"moderate activity\", \"vigorous activity\"]].sum(axis = 1)\n",
    "    print(\"activity done\")\n",
    "    generaldf[\"total cholesterol\"] = df[\"23400\"+instance]\n",
    "    generaldf[\"hdl\"] = df[\"30760\"+instance]\n",
    "    print(\"cholesterol done\")\n",
    "    print(\"generldf done\")\n",
    "    return generaldf"
   ]
  },
  {
   "cell_type": "code",
   "execution_count": 23,
   "metadata": {},
   "outputs": [],
   "source": [
    "#function that calculates the eetscore, the function outputs all dhd scores but only the eetscore column is necessary\n",
    "def foodscorecalculator(df: pd.DataFrame(), inst: int) -> pd.DataFrame():\n",
    "    inst = str(inst)\n",
    "    instance = \"-\"+inst+\".0\"\n",
    "    femalesdf = df[df[\"31-0.0\"] == 0]\n",
    "    malesdf = df[df[\"31-0.0\"] == 1]\n",
    "    mfood = pd.DataFrame()\n",
    "    ffood = pd.DataFrame()\n",
    "    dhd =  pd.DataFrame()\n",
    "    dhd[\"eid\"] = df['eid']\n",
    "    mfood[\"eid\"] = malesdf[\"eid\"]\n",
    "    ffood[\"eid\"] = femalesdf[\"eid\"]\n",
    "    dffood = pd.DataFrame()\n",
    "    dffood[\"fruit\"] = 0\n",
    "    dffood[\"vegetables\"] = 0\n",
    "    dffood[\"wholemeal\"] = 0\n",
    "    dffood[\"refined\"] = 0\n",
    "    dffood[\"red meat\"] = 0\n",
    "    dffood[\"beverages\"] = 0\n",
    "    \n",
    "    print(\"start foodscore\")\n",
    "    mfood[\"alcohol\"] =  to_DHD15(malesdf, \"26030\"+instance, 30, 10)\n",
    "    ffood[\"alcohol\"] =  to_DHD15(femalesdf, \"26030\"+instance, 20, 10)\n",
    "    dhd = mfood.merge(ffood, how = \"outer\", on = ['eid'])\n",
    "    print(\"alcohol done\")\n",
    "    #fruit  \n",
    "    fruit_fields = [\"26090\"+instance, \"26091\"+instance, \"26093\"+instance, \"26089\"+instance]\n",
    "    dffood[\"fruit\"] = df[fruit_fields].sum(axis = 1, skipna = False)\n",
    "    fruit = to_DHD15(dffood, \"fruit\", 200)\n",
    "    dhd[\"fruit\"] = fruit\n",
    "    print(\"fruit\")\n",
    "    #vegetables\n",
    "    vegetable_fields = [\"26065\"+instance, \"26098\"+instance, \"26146\"+instance, \"26115\"+instance, \"26143\"+instance, \n",
    "                        \"26147\"+instance, \"26123\"+instance, \"26125\"+instance]\n",
    "\n",
    "    dffood[\"vegetables\"] = df[vegetable_fields].sum(axis = 1, skipna = False)\n",
    "    dhd[\"vegetables\"] = to_DHD15(dffood, \"vegetables\", 200)\n",
    "    print(\"vegetables\")\n",
    "    #wholemeal wm# \n",
    "    wholemeal = [\"26076\"+instance, \"26071\"+instance, \"26077\"+instance, \"26078\"+instance,\n",
    "                 \"26074\"+instance, \"26114\"+instance,\"26105\"+instance, \"26097\"+instance]\n",
    "    refined = [\"26113\"+instance, \"26073\"+instance,\"26068\"+instance, \"26075\"+instance, \"26083\"+instance]\n",
    "    for i in wholemeal:\n",
    "        dffood[\"wholemeal\"] = df[wholemeal].sum(axis = 1, skipna = False)\n",
    "    for i in refined:\n",
    "        dffood[\"refined\"] = df[refined].sum(axis = 1, skipna = False)\n",
    "\n",
    "    dffood[\"wr_ratio\"] = dffood[\"wholemeal\"]/dffood[\"refined\"]\n",
    "    dhd[\"wholemeal\"] = to_DHD15(dffood, \"wr_ratio\", 0.7, 11)\n",
    "    print(\"wholemeal done\")\n",
    "    #legumes\n",
    "    dffood[\"legumes\"] = df[\"26101\"+instance]\n",
    "    dhd[\"legumes\"] = to_DHD15(dffood, \"legumes\", 10)\n",
    "    print(\"legumes done\")\n",
    "    #unsalted nuts\n",
    "    dffood[\"nuts\"] = df['26107'+instance]\n",
    "    dhd[\"nuts\"] = to_DHD15(dffood, \"nuts\", 15)\n",
    "    print(\"nuts done\")\n",
    "    #dairy\n",
    "    dffood[\"dairy\"] = df[\"26099\"+instance] + df[\"26103\"+instance]\n",
    "    dffood[\"dairy\"] = dffood[\"dairy\"].apply(lambda x: 40 if x >= 40 else x)\n",
    "    dffood[\"dairy\"] += df[\"26154\"+instance] + df[\"26096\"+instance] + df[\"26102\"+instance]+ df[\"26087\"+instance]\n",
    "    + df[\"26084\"+instance]  + df[\"26133\"+instance] + df[\"26150\"+instance]\n",
    "    dhd[\"dairy\"] = to_DHD15(dffood, \"dairy\", 750,300,450)\n",
    "    print(\"diary done\")\n",
    "    #fish\n",
    "    dffood[\"fish\"] = df[\"26149\"+instance]+ df[\"26132\"+instance] + df[\"26139\"+instance]+ df[\"26070\"+instance]\n",
    "    dffood[\"fish\"] = dffood[\"fish\"].apply(lambda x: 4 if x >= 4 else x)\n",
    "    dffood[\"fish\"] += df[\"26109\"+instance]\n",
    "    dhd[\"fish\"] = to_DHD15(dffood, \"fish\", 15)\n",
    "    print(\"fish done\")\n",
    "    #tea\n",
    "    dffood[\"tea\"] = df[\"26141\"+instance] + df[\"26142\"+instance]\n",
    "    dhd[\"tea\"] = to_DHD15(dffood, \"tea\", 450)\n",
    "    print(\"tea done\")\n",
    "    #fats\n",
    "    dfats = df[\"20090\"+instance]\n",
    "    dfats = dfats.fillna(0)\n",
    "    dfats = dfats.apply(lambda x: str(x).split(\"|\"))\n",
    "    good_fat = [\"353\", \"354\", \"355\", \"356\", \"357\", \"365\", \"366\", \"367\", \"368\", \"369\", \"370\", \"371\", \"372\", \"373\", \"374\",\n",
    "                \"375\", \"376\", \"377\", \"378\", \"379\", \"380\", \"381\", \"382\", \"383\", \"384\", \"385\", \"386\", \"387\", \"388\", \"389\", \n",
    "                \"390\", \"391\", \"392\", \"393\", \"394\"]\n",
    "    bad_fat = [\"352\", \"359\", \"360\", \"361\", \"362\", \"363\", \"364\", \"395\", \"396\"]\n",
    "    dffood[\"goodfat\"] = dfats.apply(lambda row: getfats(row, good_fat))\n",
    "    print( \"goodfat done\")\n",
    "    dffood[\"badfat\"] = dfats.apply(lambda row: getfats(row, bad_fat))\n",
    "    #can't get ratio by dividing by zero so badfat 0 gets changed to 1\n",
    "    dffood[\"badfat\"] = dffood[\"badfat\"].apply(lambda row: 1 if row == 0 else row)\n",
    "    print(\"badfat done\")\n",
    "    dffood[\"fb_ratio\"] = dffood[\"goodfat\"]/dffood[\"badfat\"]\n",
    "    dhd[\"fats\"] = to_DHD15(dffood, \"fb_ratio\", 0.6, 13)\n",
    "    print(\"fats complete\")\n",
    "    dffood[\"coffee\"] = df[\"100240\"+instance]\n",
    "    dhd[\"coffee\"] = dffood[\"coffee\"].apply(lambda x: 10 if x == 0 else 0 if x == 1 else x)\n",
    "    print(\"coffee complete\")\n",
    "    dffood[\"red meat\"] = df[\"26117\" + instance] + df[\"26100\" + instance] + df[\"26066\" + instance]\n",
    "    dhd[\"red meat\"] =  to_DHD15(dffood, \"red meat\", 100, 45)\n",
    "    print(\"red meat complete\")\n",
    "    dffood[\"processed_meat\"] = df[\"26122\"+instance]+ df[\"26069\"+instance]+ df[\"26104\"+instance]\n",
    "    dhd[\"processed_meat\"] = to_DHD15(dffood, \"processed_meat\", 50, 0)\n",
    "    print(\"processed meat complete\")\n",
    "    dffood[\"beverages\"] = df[\"26127\" + instance]+ df[\"26095\" + instance]\n",
    "    dhd[\"beverages\"] = to_DHD15(dffood, \"beverages\", 250, 0)   \n",
    "    print(\"beverages complete\")\n",
    "    dffood[\"salt\"] = df[\"26052\"+instance]\n",
    "    dhd[\"salt\"] =  to_DHD15(dffood, \"salt\", 3.8, 1.9)\n",
    "    print(\"salt complete\")\n",
    "    dhd[\"eetscore\"] =  dhd[['alcohol_x',\"alcohol_y\", 'fruit', 'vegetables', 'wholemeal', 'legumes', 'nuts',\n",
    "       'dairy', 'fish', 'tea', 'fats', 'coffee', 'red meat', 'processed_meat',\n",
    "       'beverages', 'salt']].fillna(0).sum(axis=1, skipna = False)\n",
    "    return dhd"
   ]
  },
  {
   "cell_type": "code",
   "execution_count": 24,
   "metadata": {},
   "outputs": [],
   "source": [
    "#checks if a participant had a cardiovascular event before the first visit to the biobank\n",
    "def prior_event(dfrow: pd.DataFrame(), instance: int, cvd_list: Sequence[str]) -> int:\n",
    "    inst = \"-\" + str(instance) + \".0\"\n",
    "    ret = 0;\n",
    "    assessment_date = pd.to_datetime(dfrow[\"53\"+inst]) # Date of attending assessment \n",
    "    for event in cvd_list:\n",
    "        if not pd.isna(dfrow[event+inst]) and assessment_date > pd.to_datetime(dfrow[event+inst]): # Date of event \n",
    "            ret = 1\n",
    "    return ret\n",
    "\n",
    "#returns if the date of first cardiovascular event falls between the range\n",
    "def event_within_time_horizon(dfrow: pd.DataFrame(), time_horizon: int, instance: int, event_ids: Sequence[str] = predictors_field_ids_non_fatal) -> int:\n",
    "    inst = \"-\"+str(instance)+\".0\"\n",
    "    ret = 0\n",
    "    assessment_date = pd.to_datetime(dfrow[\"53\"+inst]) # Date of attending assessment \n",
    "    for event_id in event_ids:\n",
    "        flag = False\n",
    "        event_var = event_id + inst\n",
    "        if not pd.isna(dfrow[event_var]):\n",
    "            event_date = pd.to_datetime(dfrow[event_var])\n",
    "            if event_date > assessment_date and event_date < (assessment_date + pd.DateOffset(years=time_horizon)):\n",
    "                ret = 1\n",
    "    return ret\n",
    "\n",
    "# function returns True for each row where a participant had a fatal cardiovascular event\n",
    "def CVD_death(df: pd.DataFrame())-> Sequence[bool]:\n",
    "    causes_icd10  = str(df[\"cause_icd10\"]).split('|')\n",
    "    return 1 if any(any(s2 in s1 for s2 in Fatal_CVD_ICD10) for s1 in causes_icd10) and not any(any(s2 in s1 for s2 in Fatal_CVD_ICD10_excl) for s1 in causes_icd10) else 0"
   ]
  },
  {
   "cell_type": "code",
   "execution_count": 28,
   "metadata": {},
   "outputs": [
    {
     "name": "stdout",
     "output_type": "stream",
     "text": [
      "sex done\n",
      "age done\n",
      "sbp done\n",
      "smoking done\n",
      "medications done\n",
      "activity done\n",
      "cholesterol done\n",
      "generldf done\n"
     ]
    },
    {
     "name": "stderr",
     "output_type": "stream",
     "text": [
      "C:\\Users\\i.bermejo\\AppData\\Local\\Temp\\ipykernel_34880\\1887025997.py:74: FutureWarning: Downcasting object dtype arrays on .fillna, .ffill, .bfill is deprecated and will change in a future version. Call result.infer_objects(copy=False) instead. To opt-in to the future behavior, set `pd.set_option('future.no_silent_downcasting', True)`\n",
      "  df[\"rank\"] = tempdf[\"mdi eng %\"].fillna(0) + tempdf[\"mdi scott %\"].fillna(0) + tempdf[\"mdi wsh %\"].fillna(0)\n"
     ]
    },
    {
     "name": "stdout",
     "output_type": "stream",
     "text": [
      "start foodscore\n",
      "alcohol done\n",
      "fruit\n",
      "vegetables\n",
      "wholemeal done\n",
      "legumes done\n",
      "nuts done\n",
      "diary done\n",
      "fish done\n",
      "tea done\n",
      "goodfat done\n",
      "badfat done\n",
      "fats complete\n",
      "coffee complete\n",
      "red meat complete\n",
      "processed meat complete\n",
      "beverages complete\n",
      "salt complete\n",
      "all data complete\n"
     ]
    }
   ],
   "source": [
    "general = process_df(data, instance)\n",
    "seswoa = calc_deprivation(data, percentiles)\n",
    "food = foodscorecalculator(data, instance)\n",
    "print(\"all data complete\")"
   ]
  },
  {
   "cell_type": "code",
   "execution_count": 29,
   "metadata": {},
   "outputs": [
    {
     "data": {
      "text/plain": [
       "ex_smokers\n",
       "0    23902\n",
       "1    12712\n",
       "Name: count, dtype: int64"
      ]
     },
     "execution_count": 29,
     "metadata": {},
     "output_type": "execute_result"
    }
   ],
   "source": [
    "general['ex_smokers'].value_counts()"
   ]
  },
  {
   "cell_type": "code",
   "execution_count": 30,
   "metadata": {},
   "outputs": [
    {
     "data": {
      "text/plain": [
       "current_smokers\n",
       "0    33587\n",
       "1     3027\n",
       "Name: count, dtype: int64"
      ]
     },
     "execution_count": 30,
     "metadata": {},
     "output_type": "execute_result"
    }
   ],
   "source": [
    "general['current_smokers'].value_counts()"
   ]
  },
  {
   "cell_type": "code",
   "execution_count": 31,
   "metadata": {},
   "outputs": [
    {
     "data": {
      "text/plain": [
       "bp medication\n",
       "0    29455\n",
       "1     7159\n",
       "Name: count, dtype: int64"
      ]
     },
     "execution_count": 31,
     "metadata": {},
     "output_type": "execute_result"
    }
   ],
   "source": [
    "general['bp medication'].value_counts()"
   ]
  },
  {
   "cell_type": "code",
   "execution_count": 32,
   "metadata": {},
   "outputs": [
    {
     "data": {
      "text/plain": [
       "cholesterol lowering medication\n",
       "0    30412\n",
       "1     6202\n",
       "Name: count, dtype: int64"
      ]
     },
     "execution_count": 32,
     "metadata": {},
     "output_type": "execute_result"
    }
   ],
   "source": [
    "general['cholesterol lowering medication'].value_counts()"
   ]
  },
  {
   "cell_type": "code",
   "execution_count": 33,
   "metadata": {},
   "outputs": [
    {
     "data": {
      "text/plain": [
       "(36614, 20)"
      ]
     },
     "execution_count": 33,
     "metadata": {},
     "output_type": "execute_result"
    }
   ],
   "source": [
    "general.shape"
   ]
  },
  {
   "cell_type": "code",
   "execution_count": 34,
   "metadata": {},
   "outputs": [
    {
     "data": {
      "text/plain": [
       "(36866, 123)"
      ]
     },
     "execution_count": 34,
     "metadata": {},
     "output_type": "execute_result"
    }
   ],
   "source": [
    "data.shape"
   ]
  },
  {
   "cell_type": "code",
   "execution_count": 35,
   "metadata": {},
   "outputs": [],
   "source": [
    "time_horizon = 5\n",
    "events = pd.DataFrame()\n",
    "# Date I21 first reported (acute myocardial infarction)\n",
    "events['I21'] = data.apply(lambda row: event_within_time_horizon(row, time_horizon, instance, [\"131298\"]), axis = 1)\n",
    "# Date I22 first reported (subsequent myocardial infarction)\n",
    "events['I22'] = data.apply(lambda row: event_within_time_horizon(row, time_horizon, instance, [\"131300\"]), axis = 1)\n",
    "# Date I23 first reported (certain current complications following acute myocardial infarction)\n",
    "events['I23'] = data.apply(lambda row: event_within_time_horizon(row, time_horizon, instance, [\"131302\"]), axis = 1)\n",
    "# Date I61 first reported (intracerebral haemorrhage)\n",
    "events['I61'] = data.apply(lambda row: event_within_time_horizon(row, time_horizon, instance, [\"131362\"]), axis = 1)\n",
    "# Date I63 first reported (cerebral infarction)\n",
    "events['I63'] = data.apply(lambda row: event_within_time_horizon(row, time_horizon, instance, [\"131366\"]), axis = 1)\n",
    "# Date I64 first reported (stroke, not specified as haemorrhage or infarction)\n",
    "events['I64'] = data.apply(lambda row: event_within_time_horizon(row, time_horizon, instance, [\"131368\"]), axis = 1)\n",
    "# Date I65 first reported (occlusion and stenosis of precerebral arteries, not resulting in cerebral infarction)\n",
    "events['I65'] = data.apply(lambda row: event_within_time_horizon(row, time_horizon, instance, [\"131370\"]), axis = 1)\n",
    "# Date I66 first reported (occlusion and stenosis of cerebral arteries, not resulting in cerebral infarction)\n",
    "events['I66'] = data.apply(lambda row: event_within_time_horizon(row, time_horizon, instance, [\"131372\"]), axis = 1)\n",
    "# Date I67 first reported (other cerebrovascular diseases)\n",
    "events['I67'] = data.apply(lambda row: event_within_time_horizon(row, time_horizon, instance, [\"131374\"]), axis = 1)\n",
    "# Date I68 first reported (cerebrovascular disorders in diseases classified elsewhere)\n",
    "events['I68'] = data.apply(lambda row: event_within_time_horizon(row, time_horizon, instance, [\"131376\"]), axis = 1)\n",
    "# Date I69 first reported (sequelae of cerebrovascular disease)\n",
    "events['I69'] = data.apply(lambda row: event_within_time_horizon(row, time_horizon, instance, [\"131378\"]), axis = 1)"
   ]
  },
  {
   "cell_type": "code",
   "execution_count": 36,
   "metadata": {},
   "outputs": [
    {
     "name": "stdout",
     "output_type": "stream",
     "text": [
      "I21 (acute myocardial infarction)\n",
      "I21\n",
      "0    36624\n",
      "1      242\n",
      "Name: count, dtype: int64\n",
      "I22 (subsequent myocardial infarction)\n",
      "I22\n",
      "0    36854\n",
      "1       12\n",
      "Name: count, dtype: int64\n",
      "I23 (certain current complications following acute myocardial infarction)\n",
      "I23\n",
      "0    36865\n",
      "1        1\n",
      "Name: count, dtype: int64\n",
      "I61 (intracerebral haemorrhage)\n",
      "I61\n",
      "0    36831\n",
      "1       35\n",
      "Name: count, dtype: int64\n",
      "I63 (cerebral infarction)\n",
      "I63\n",
      "0    36724\n",
      "1      142\n",
      "Name: count, dtype: int64\n",
      "I64 (stroke, not specified as haemorrhage or infarction)\n",
      "I64\n",
      "0    36792\n",
      "1       74\n",
      "Name: count, dtype: int64\n",
      "I65 (occlusion and stenosis of precerebral arteries, not resulting in cerebral infarction)\n",
      "I65\n",
      "0    36832\n",
      "1       34\n",
      "Name: count, dtype: int64\n",
      "I66 (occlusion and stenosis of cerebral arteries, not resulting in cerebral infarction)\n",
      "I66\n",
      "0    36863\n",
      "1        3\n",
      "Name: count, dtype: int64\n",
      "I67 (other cerebrovascular diseases)\n",
      "I67\n",
      "0    36765\n",
      "1      101\n",
      "Name: count, dtype: int64\n",
      "I68 (cerebrovascular disorders in diseases classified elsewhere)\n",
      "I68\n",
      "0    36864\n",
      "1        2\n",
      "Name: count, dtype: int64\n",
      "I69 (sequelae of cerebrovascular disease)\n",
      "I69\n",
      "0    36821\n",
      "1       45\n",
      "Name: count, dtype: int64\n",
      "Participants with at least one event\n",
      "565\n"
     ]
    }
   ],
   "source": [
    "print(\"I21 (acute myocardial infarction)\")\n",
    "print(events['I21'].value_counts())\n",
    "print(\"I22 (subsequent myocardial infarction)\")\n",
    "print(events['I22'].value_counts())\n",
    "print(\"I23 (certain current complications following acute myocardial infarction)\")\n",
    "print(events['I23'].value_counts())\n",
    "print(\"I61 (intracerebral haemorrhage)\")\n",
    "print(events['I61'].value_counts())\n",
    "print(\"I63 (cerebral infarction)\")\n",
    "print(events['I63'].value_counts())\n",
    "print(\"I64 (stroke, not specified as haemorrhage or infarction)\")\n",
    "print(events['I64'].value_counts())\n",
    "print(\"I65 (occlusion and stenosis of precerebral arteries, not resulting in cerebral infarction)\")\n",
    "print(events['I65'].value_counts())\n",
    "print(\"I66 (occlusion and stenosis of cerebral arteries, not resulting in cerebral infarction)\")\n",
    "print(events['I66'].value_counts())\n",
    "print(\"I67 (other cerebrovascular diseases)\")\n",
    "print(events['I67'].value_counts())\n",
    "print(\"I68 (cerebrovascular disorders in diseases classified elsewhere)\")\n",
    "print(events['I68'].value_counts())\n",
    "print(\"I69 (sequelae of cerebrovascular disease)\")\n",
    "print(events['I69'].value_counts())\n",
    "print(\"Participants with at least one event\")\n",
    "participant_events = events.sum(axis=1) > 0\n",
    "print(participant_events.sum())"
   ]
  },
  {
   "cell_type": "code",
   "execution_count": 37,
   "metadata": {},
   "outputs": [],
   "source": [
    "cv_events = data.apply(lambda row: event_within_time_horizon(row, 5, instance), axis =1)"
   ]
  },
  {
   "cell_type": "code",
   "execution_count": 38,
   "metadata": {},
   "outputs": [
    {
     "data": {
      "text/plain": [
       "0    36301\n",
       "1      565\n",
       "Name: count, dtype: int64"
      ]
     },
     "execution_count": 38,
     "metadata": {},
     "output_type": "execute_result"
    }
   ],
   "source": [
    "cv_events.value_counts()"
   ]
  },
  {
   "cell_type": "code",
   "execution_count": 67,
   "metadata": {},
   "outputs": [],
   "source": [
    "# takes a while to run\n",
    "# Collect results\n",
    "df = pd.DataFrame(data[['eid', 'statin_initiation_date', 'antihypertensive_initiation_date']])\n",
    "# Prior CVD: \n",
    "# Maastricht study: N_CVD, based on questionnaire data. \n",
    "# Subjects were regarded as having a history of cardiovascular disease,\n",
    "# if they reported that they have ever had at least one of the following conditions/treatments: \n",
    "# - myocardial infarction \n",
    "# - cerebrovascular infarction and/or hemorrhage \n",
    "# - percutaneous artery angioplasty of the coronary arteries, abdominal arteries, peripheral arteries or carotid artery \n",
    "# - vascular surgery on coronary arteries, abdominal arteries, peripheral arteries or carotid artery. \n",
    "df[\"prior CVD\"] = data.apply(lambda row: prior_event(row, instance, predictors_field_ids_non_fatal), axis = 1)\n",
    "df[\"dropout\"] = data.apply(lambda row: event_within_time_horizon(row, 10, instance, [\"191\"]), axis = 1)\n",
    "df[\"non fatal CVD event 5 years\"]= data.apply(lambda row: event_within_time_horizon(row, 5, instance), axis =1)\n",
    "df[\"non fatal CVD event 10 years\"] = data.apply(lambda row: event_within_time_horizon(row, 10, instance), axis = 1)\n",
    "\n",
    "# Did the participant die in the first five years of follow-up? \n",
    "df[\"death 5 years\"] = data.apply(lambda row: event_within_time_horizon(row, 5, instance, [\"40000\"]), axis = 1)\n",
    "# Did the participant die in the first ten years of follow-up?\n",
    "df[\"death 10 years\"] = data.apply(lambda row: event_within_time_horizon(row, 10, instance, [\"40000\"]), axis = 1)\n",
    "\n",
    "# Check if the participant died due to CVD during followup\n",
    "df[\"CVD death\"]= data.apply(lambda row: CVD_death(row), axis =1)\n",
    "# Check if the participant died due to an event within 5 years\n",
    "df[\"CVD death 5 years\"]=   (df[\"death 5 years\"] & df[\"CVD death\"]).astype(int)\n",
    "# Check if the participant died due to an event within 10 years \n",
    "df[\"CVD death 10 years\"] = (df[\"death 10 years\"] & df[\"CVD death\"]).astype(int)\n",
    "# CVD deaths are subtracted from the deaths so the collumn only contains people that died due to other causes\n",
    "df[\"death other causes 5 years\"]  = df[\"death 5 years\"] - df[\"CVD death 5 years\"]  \n",
    "df[\"death other causes 10 years\"] = df[\"death 10 years\"] - df[\"CVD death 10 years\"]\n",
    "# CVD events, fatal and non-fatal\n",
    "df[\"CVD event 5 years\"]  = (df[\"CVD death 5 years\"]  | df[\"non fatal CVD event 5 years\"]).astype(int)\n",
    "df[\"CVD event 10 years\"] = (df[\"CVD death 10 years\"] | df[\"non fatal CVD event 10 years\"]).astype(int)"
   ]
  },
  {
   "cell_type": "code",
   "execution_count": 68,
   "metadata": {},
   "outputs": [],
   "source": [
    "df[\"statin before admission\"] = data.apply(lambda row: 1 if pd.to_datetime(row[\"statin_initiation_date\"]) < pd.to_datetime(row[\"53-0.0\"]) else 0, axis = 1)"
   ]
  },
  {
   "cell_type": "code",
   "execution_count": 69,
   "metadata": {},
   "outputs": [
    {
     "data": {
      "text/plain": [
       "statin before admission\n",
       "0    34016\n",
       "1     2850\n",
       "Name: count, dtype: int64"
      ]
     },
     "execution_count": 69,
     "metadata": {},
     "output_type": "execute_result"
    }
   ],
   "source": [
    "df[\"statin before admission\"].value_counts()"
   ]
  },
  {
   "cell_type": "code",
   "execution_count": 70,
   "metadata": {},
   "outputs": [],
   "source": [
    "df[\"antihypertensive before admission\"] = data.apply(lambda row: 1 if pd.to_datetime(row[\"antihypertensive_initiation_date\"]) < pd.to_datetime(row[\"53-0.0\"]) else 0, axis = 1)"
   ]
  },
  {
   "cell_type": "code",
   "execution_count": 71,
   "metadata": {},
   "outputs": [
    {
     "data": {
      "text/plain": [
       "antihypertensive before admission\n",
       "0    32816\n",
       "1     4050\n",
       "Name: count, dtype: int64"
      ]
     },
     "execution_count": 71,
     "metadata": {},
     "output_type": "execute_result"
    }
   ],
   "source": [
    "df[\"antihypertensive before admission\"].value_counts()"
   ]
  },
  {
   "cell_type": "code",
   "execution_count": 72,
   "metadata": {},
   "outputs": [],
   "source": [
    "df = pd.merge(df, general, on = [\"eid\"], how = \"left\")\n",
    "df = pd.merge(df, seswoa, on = [\"eid\"], how = \"left\")\n",
    "df = pd.merge(df, food, on = [\"eid\"], how = \"left\")"
   ]
  },
  {
   "cell_type": "code",
   "execution_count": 73,
   "metadata": {},
   "outputs": [
    {
     "data": {
      "text/plain": [
       "non fatal CVD event 5 years\n",
       "0    36301\n",
       "1      565\n",
       "Name: count, dtype: int64"
      ]
     },
     "execution_count": 73,
     "metadata": {},
     "output_type": "execute_result"
    }
   ],
   "source": [
    "df[\"non fatal CVD event 5 years\"].value_counts()"
   ]
  },
  {
   "cell_type": "code",
   "execution_count": 74,
   "metadata": {},
   "outputs": [
    {
     "data": {
      "text/plain": [
       "CVD event 5 years\n",
       "0    36238\n",
       "1      628\n",
       "Name: count, dtype: int64"
      ]
     },
     "execution_count": 74,
     "metadata": {},
     "output_type": "execute_result"
    }
   ],
   "source": [
    "df[\"CVD event 5 years\"].value_counts()"
   ]
  },
  {
   "cell_type": "code",
   "execution_count": 75,
   "metadata": {},
   "outputs": [],
   "source": [
    "# Distribution of CVD deaths in time since assessment\n",
    "CVD_dead_participants = data[df[\"CVD death\"] == 1]\n",
    "time_to_cvd_death = (pd.to_datetime(CVD_dead_participants['40000-0.0']) - pd.to_datetime(CVD_dead_participants['53-0.0'])) / np.timedelta64(52, 'W')"
   ]
  },
  {
   "cell_type": "code",
   "execution_count": 76,
   "metadata": {},
   "outputs": [
    {
     "data": {
      "image/png": "[encoded data removed]",
      "text/plain": [
       "<Figure size 640x480 with 1 Axes>"
      ]
     },
     "metadata": {},
     "output_type": "display_data"
    },
    {
     "name": "stdout",
     "output_type": "stream",
     "text": [
      "109\n",
      "357\n"
     ]
    }
   ],
   "source": [
    "plt.hist(time_to_cvd_death, bins = 50)\n",
    "plt.show()\n",
    "print(sum(time_to_cvd_death < 5))\n",
    "print(sum(time_to_cvd_death < 10))"
   ]
  },
  {
   "cell_type": "code",
   "execution_count": 83,
   "metadata": {},
   "outputs": [
    {
     "data": {
      "text/plain": [
       "465"
      ]
     },
     "execution_count": 83,
     "metadata": {},
     "output_type": "execute_result"
    }
   ],
   "source": [
    "len(df[(df['cholesterol lowering medication'] == 0) & (df['statin before admission'] == 1)])"
   ]
  },
  {
   "cell_type": "code",
   "execution_count": 84,
   "metadata": {},
   "outputs": [
    {
     "data": {
      "text/plain": [
       "1293"
      ]
     },
     "execution_count": 84,
     "metadata": {},
     "output_type": "execute_result"
    }
   ],
   "source": [
    "len(df[(df['bp medication'] == 0) & (df['antihypertensive before admission'] == 1)])"
   ]
  },
  {
   "cell_type": "code",
   "execution_count": 85,
   "metadata": {},
   "outputs": [
    {
     "ename": "ValueError",
     "evalue": "The truth value of a Series is ambiguous. Use a.empty, a.bool(), a.item(), a.any() or a.all().",
     "output_type": "error",
     "traceback": [
      "\u001b[1;31m---------------------------------------------------------------------------\u001b[0m",
      "\u001b[1;31mValueError\u001b[0m                                Traceback (most recent call last)",
      "\u001b[1;32m~\\AppData\\Local\\Temp\\ipykernel_34880\\2192099145.py\u001b[0m in \u001b[0;36m?\u001b[1;34m()\u001b[0m\n\u001b[1;32m----> 1\u001b[1;33m \u001b[0mdf\u001b[0m\u001b[1;33m[\u001b[0m\u001b[1;34m'cholesterol lowering medication'\u001b[0m\u001b[1;33m]\u001b[0m \u001b[1;33m=\u001b[0m \u001b[1;36m1\u001b[0m \u001b[1;32mif\u001b[0m \u001b[0mdf\u001b[0m\u001b[1;33m[\u001b[0m\u001b[1;34m'statin before admission'\u001b[0m\u001b[1;33m]\u001b[0m \u001b[1;33m==\u001b[0m \u001b[1;36m1\u001b[0m \u001b[1;32melse\u001b[0m \u001b[0mdf\u001b[0m\u001b[1;33m[\u001b[0m\u001b[1;34m'cholesterol lowering medication'\u001b[0m\u001b[1;33m]\u001b[0m\u001b[1;33m\u001b[0m\u001b[1;33m\u001b[0m\u001b[0m\n\u001b[0m",
      "\u001b[1;32mC:\\Python310\\lib\\site-packages\\pandas\\core\\generic.py\u001b[0m in \u001b[0;36m?\u001b[1;34m(self)\u001b[0m\n\u001b[0;32m   1575\u001b[0m     \u001b[1;33m@\u001b[0m\u001b[0mfinal\u001b[0m\u001b[1;33m\u001b[0m\u001b[1;33m\u001b[0m\u001b[0m\n\u001b[0;32m   1576\u001b[0m     \u001b[1;32mdef\u001b[0m \u001b[0m__nonzero__\u001b[0m\u001b[1;33m(\u001b[0m\u001b[0mself\u001b[0m\u001b[1;33m)\u001b[0m \u001b[1;33m->\u001b[0m \u001b[0mNoReturn\u001b[0m\u001b[1;33m:\u001b[0m\u001b[1;33m\u001b[0m\u001b[1;33m\u001b[0m\u001b[0m\n\u001b[1;32m-> 1577\u001b[1;33m         raise ValueError(\n\u001b[0m\u001b[0;32m   1578\u001b[0m             \u001b[1;34mf\"The truth value of a {type(self).__name__} is ambiguous. \"\u001b[0m\u001b[1;33m\u001b[0m\u001b[1;33m\u001b[0m\u001b[0m\n\u001b[0;32m   1579\u001b[0m             \u001b[1;34m\"Use a.empty, a.bool(), a.item(), a.any() or a.all().\"\u001b[0m\u001b[1;33m\u001b[0m\u001b[1;33m\u001b[0m\u001b[0m\n\u001b[0;32m   1580\u001b[0m         )\n",
      "\u001b[1;31mValueError\u001b[0m: The truth value of a Series is ambiguous. Use a.empty, a.bool(), a.item(), a.any() or a.all()."
     ]
    }
   ],
   "source": [
    "df['cholesterol lowering medication'] = 1 if df['statin before admission'] == 1 else df['cholesterol lowering medication']"
   ]
  },
  {
   "cell_type": "code",
   "execution_count": null,
   "metadata": {},
   "outputs": [],
   "source": [
    "df['bp medication'] = 1 if df['antihypertensive before admission'] == 1 else df['bp medication']"
   ]
  },
  {
   "cell_type": "code",
   "execution_count": 116,
   "metadata": {},
   "outputs": [],
   "source": [
    "df = df.dropna(subset =[\"rank\", \"hdl\"])"
   ]
  },
  {
   "cell_type": "code",
   "execution_count": 117,
   "metadata": {},
   "outputs": [],
   "source": [
    "#inverse the rank as a higher mdi correlates to a lower ses woa score\n",
    "recalc = 101-df[\"rank\"]\n",
    "recalc = recalc.array\n",
    "recalc = recalc.reshape(-1,1)\n",
    "#transform rank to seswoa\n",
    "#SES-WOA minimum and maximum\n",
    "scaler = MinMaxScaler(feature_range = (-1.617, 0.749))\n",
    "scaler.fit(recalc)\n",
    "df[\"seswoa\"] = scaler.transform(recalc)\n",
    "finaldf = df[[\"eid\", \"sex\", \"age\", \"sbp\", 'total cholesterol','hdl',\"seswoa\", \"rank\",\n",
    "              \"champscore\", \"eetscore\", \"current_smokers\", \"ex_smokers\", \"diabetes\",\n",
    "              \"cholesterol lowering medication\", \"bp medication\", \"insulin\",\n",
    "              \"non fatal CVD event 5 years\", \"CVD death 5 years\",  \n",
    "              \"non fatal CVD event 10 years\", \"CVD death 10 years\",\n",
    "              \"CVD event 5 years\", \"CVD event 10 years\", \n",
    "              \"dropout\", \"death other causes 5 years\", \"death other causes 10 years\",\n",
    "              \"prior CVD\", \"statin_initiation_date\", \"antihypertensive_initiation_date\"]]\n",
    "#rename some collumns to work with the classifier file\n",
    "finaldf = finaldf.rename(columns = {\"current_smokers\": \"current smokers\", \"ex_smokers\": \"ex smokers\",  \"cholesterol lowering medication\": \"cholesterol medication\"})"
   ]
  },
  {
   "cell_type": "code",
   "execution_count": 118,
   "metadata": {
    "scrolled": true
   },
   "outputs": [],
   "source": [
    "#export the file\n",
    "finaldf.to_csv(\"ukbiobankinstance{}.csv\".format(instance), index = False)"
   ]
  },
  {
   "cell_type": "code",
   "execution_count": 119,
   "metadata": {},
   "outputs": [
    {
     "data": {
      "text/plain": [
       "0    30733\n",
       "1      469\n",
       "Name: non fatal CVD event 5 years, dtype: int64"
      ]
     },
     "execution_count": 119,
     "metadata": {},
     "output_type": "execute_result"
    }
   ],
   "source": [
    "finaldf['non fatal CVD event 5 years'].value_counts()"
   ]
  },
  {
   "cell_type": "code",
   "execution_count": 120,
   "metadata": {},
   "outputs": [
    {
     "data": {
      "text/plain": [
       "0    31111\n",
       "1       91\n",
       "Name: CVD death 5 years, dtype: int64"
      ]
     },
     "execution_count": 120,
     "metadata": {},
     "output_type": "execute_result"
    }
   ],
   "source": [
    "finaldf['CVD death 5 years'].value_counts()"
   ]
  },
  {
   "cell_type": "code",
   "execution_count": 121,
   "metadata": {},
   "outputs": [
    {
     "data": {
      "text/plain": [
       "0    30010\n",
       "1     1192\n",
       "Name: non fatal CVD event 10 years, dtype: int64"
      ]
     },
     "execution_count": 121,
     "metadata": {},
     "output_type": "execute_result"
    }
   ],
   "source": [
    "finaldf['non fatal CVD event 10 years'].value_counts()"
   ]
  },
  {
   "cell_type": "code",
   "execution_count": 122,
   "metadata": {},
   "outputs": [
    {
     "data": {
      "text/plain": [
       "0    30894\n",
       "1      308\n",
       "Name: CVD death 10 years, dtype: int64"
      ]
     },
     "execution_count": 122,
     "metadata": {},
     "output_type": "execute_result"
    }
   ],
   "source": [
    "finaldf['CVD death 10 years'].value_counts()"
   ]
  },
  {
   "cell_type": "code",
   "execution_count": 123,
   "metadata": {},
   "outputs": [
    {
     "data": {
      "text/plain": [
       "0    30681\n",
       "1      521\n",
       "Name: CVD event 5 years, dtype: int64"
      ]
     },
     "execution_count": 123,
     "metadata": {},
     "output_type": "execute_result"
    }
   ],
   "source": [
    "finaldf['CVD event 5 years'].value_counts()"
   ]
  },
  {
   "cell_type": "code",
   "execution_count": 124,
   "metadata": {},
   "outputs": [
    {
     "data": {
      "text/plain": [
       "0    29829\n",
       "1     1373\n",
       "Name: CVD event 10 years, dtype: int64"
      ]
     },
     "execution_count": 124,
     "metadata": {},
     "output_type": "execute_result"
    }
   ],
   "source": [
    "finaldf['CVD event 10 years'].value_counts()"
   ]
  },
  {
   "cell_type": "code",
   "execution_count": 125,
   "metadata": {},
   "outputs": [
    {
     "data": {
      "text/plain": [
       "0.016697647586693162"
      ]
     },
     "execution_count": 125,
     "metadata": {},
     "output_type": "execute_result"
    }
   ],
   "source": [
    "sum(finaldf['CVD event 5 years'])/len(finaldf['CVD event 5 years'])"
   ]
  }
 ],
 "metadata": {
  "kernelspec": {
   "display_name": "Python 3",
   "language": "python",
   "name": "python3"
  },
  "language_info": {
   "codemirror_mode": {
    "name": "ipython",
    "version": 3
   },
   "file_extension": ".py",
   "mimetype": "text/x-python",
   "name": "python",
   "nbconvert_exporter": "python",
   "pygments_lexer": "ipython3",
   "version": "3.8.5"
  }
 },
 "nbformat": 4,
 "nbformat_minor": 5
}
